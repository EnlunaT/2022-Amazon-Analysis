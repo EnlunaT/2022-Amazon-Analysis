{
 "cells": [
  {
   "cell_type": "markdown",
   "id": "453a8afc",
   "metadata": {},
   "source": [
    "### Import Libraries & reading in data"
   ]
  },
  {
   "cell_type": "code",
   "execution_count": 1,
   "id": "53f2e795",
   "metadata": {},
   "outputs": [],
   "source": [
    "import pandas as pd\n",
    "import numpy as np\n",
    "import matplotlib.pyplot as plt\n",
    "import matplotlib.ticker as ticker\n",
    "import seaborn as sns\n",
    "sns.set_style('whitegrid')"
   ]
  },
  {
   "cell_type": "code",
   "execution_count": 2,
   "id": "55577de1",
   "metadata": {},
   "outputs": [
    {
     "name": "stderr",
     "output_type": "stream",
     "text": [
      "C:\\Users\\user\\AppData\\Local\\Temp\\ipykernel_18224\\2682170935.py:1: DtypeWarning: Columns (23) have mixed types. Specify dtype option on import or set low_memory=False.\n",
      "  data = pd.read_csv('Amazon Sale Report.csv')\n"
     ]
    },
    {
     "data": {
      "text/html": [
       "<div>\n",
       "<style scoped>\n",
       "    .dataframe tbody tr th:only-of-type {\n",
       "        vertical-align: middle;\n",
       "    }\n",
       "\n",
       "    .dataframe tbody tr th {\n",
       "        vertical-align: top;\n",
       "    }\n",
       "\n",
       "    .dataframe thead th {\n",
       "        text-align: right;\n",
       "    }\n",
       "</style>\n",
       "<table border=\"1\" class=\"dataframe\">\n",
       "  <thead>\n",
       "    <tr style=\"text-align: right;\">\n",
       "      <th></th>\n",
       "      <th>index</th>\n",
       "      <th>Order ID</th>\n",
       "      <th>Date</th>\n",
       "      <th>Status</th>\n",
       "      <th>Fulfilment</th>\n",
       "      <th>Sales Channel</th>\n",
       "      <th>ship-service-level</th>\n",
       "      <th>Style</th>\n",
       "      <th>SKU</th>\n",
       "      <th>Category</th>\n",
       "      <th>...</th>\n",
       "      <th>currency</th>\n",
       "      <th>Amount</th>\n",
       "      <th>ship-city</th>\n",
       "      <th>ship-state</th>\n",
       "      <th>ship-postal-code</th>\n",
       "      <th>ship-country</th>\n",
       "      <th>promotion-ids</th>\n",
       "      <th>B2B</th>\n",
       "      <th>fulfilled-by</th>\n",
       "      <th>Unnamed: 22</th>\n",
       "    </tr>\n",
       "  </thead>\n",
       "  <tbody>\n",
       "    <tr>\n",
       "      <th>0</th>\n",
       "      <td>0</td>\n",
       "      <td>405-8078784-5731545</td>\n",
       "      <td>04-30-22</td>\n",
       "      <td>Cancelled</td>\n",
       "      <td>Merchant</td>\n",
       "      <td>Amazon.in</td>\n",
       "      <td>Standard</td>\n",
       "      <td>SET389</td>\n",
       "      <td>SET389-KR-NP-S</td>\n",
       "      <td>Set</td>\n",
       "      <td>...</td>\n",
       "      <td>INR</td>\n",
       "      <td>647.62</td>\n",
       "      <td>MUMBAI</td>\n",
       "      <td>MAHARASHTRA</td>\n",
       "      <td>400081.0</td>\n",
       "      <td>IN</td>\n",
       "      <td>NaN</td>\n",
       "      <td>False</td>\n",
       "      <td>Easy Ship</td>\n",
       "      <td>NaN</td>\n",
       "    </tr>\n",
       "    <tr>\n",
       "      <th>1</th>\n",
       "      <td>1</td>\n",
       "      <td>171-9198151-1101146</td>\n",
       "      <td>04-30-22</td>\n",
       "      <td>Shipped - Delivered to Buyer</td>\n",
       "      <td>Merchant</td>\n",
       "      <td>Amazon.in</td>\n",
       "      <td>Standard</td>\n",
       "      <td>JNE3781</td>\n",
       "      <td>JNE3781-KR-XXXL</td>\n",
       "      <td>kurta</td>\n",
       "      <td>...</td>\n",
       "      <td>INR</td>\n",
       "      <td>406.00</td>\n",
       "      <td>BENGALURU</td>\n",
       "      <td>KARNATAKA</td>\n",
       "      <td>560085.0</td>\n",
       "      <td>IN</td>\n",
       "      <td>Amazon PLCC Free-Financing Universal Merchant ...</td>\n",
       "      <td>False</td>\n",
       "      <td>Easy Ship</td>\n",
       "      <td>NaN</td>\n",
       "    </tr>\n",
       "    <tr>\n",
       "      <th>2</th>\n",
       "      <td>2</td>\n",
       "      <td>404-0687676-7273146</td>\n",
       "      <td>04-30-22</td>\n",
       "      <td>Shipped</td>\n",
       "      <td>Amazon</td>\n",
       "      <td>Amazon.in</td>\n",
       "      <td>Expedited</td>\n",
       "      <td>JNE3371</td>\n",
       "      <td>JNE3371-KR-XL</td>\n",
       "      <td>kurta</td>\n",
       "      <td>...</td>\n",
       "      <td>INR</td>\n",
       "      <td>329.00</td>\n",
       "      <td>NAVI MUMBAI</td>\n",
       "      <td>MAHARASHTRA</td>\n",
       "      <td>410210.0</td>\n",
       "      <td>IN</td>\n",
       "      <td>IN Core Free Shipping 2015/04/08 23-48-5-108</td>\n",
       "      <td>True</td>\n",
       "      <td>NaN</td>\n",
       "      <td>NaN</td>\n",
       "    </tr>\n",
       "    <tr>\n",
       "      <th>3</th>\n",
       "      <td>3</td>\n",
       "      <td>403-9615377-8133951</td>\n",
       "      <td>04-30-22</td>\n",
       "      <td>Cancelled</td>\n",
       "      <td>Merchant</td>\n",
       "      <td>Amazon.in</td>\n",
       "      <td>Standard</td>\n",
       "      <td>J0341</td>\n",
       "      <td>J0341-DR-L</td>\n",
       "      <td>Western Dress</td>\n",
       "      <td>...</td>\n",
       "      <td>INR</td>\n",
       "      <td>753.33</td>\n",
       "      <td>PUDUCHERRY</td>\n",
       "      <td>PUDUCHERRY</td>\n",
       "      <td>605008.0</td>\n",
       "      <td>IN</td>\n",
       "      <td>NaN</td>\n",
       "      <td>False</td>\n",
       "      <td>Easy Ship</td>\n",
       "      <td>NaN</td>\n",
       "    </tr>\n",
       "    <tr>\n",
       "      <th>4</th>\n",
       "      <td>4</td>\n",
       "      <td>407-1069790-7240320</td>\n",
       "      <td>04-30-22</td>\n",
       "      <td>Shipped</td>\n",
       "      <td>Amazon</td>\n",
       "      <td>Amazon.in</td>\n",
       "      <td>Expedited</td>\n",
       "      <td>JNE3671</td>\n",
       "      <td>JNE3671-TU-XXXL</td>\n",
       "      <td>Top</td>\n",
       "      <td>...</td>\n",
       "      <td>INR</td>\n",
       "      <td>574.00</td>\n",
       "      <td>CHENNAI</td>\n",
       "      <td>TAMIL NADU</td>\n",
       "      <td>600073.0</td>\n",
       "      <td>IN</td>\n",
       "      <td>NaN</td>\n",
       "      <td>False</td>\n",
       "      <td>NaN</td>\n",
       "      <td>NaN</td>\n",
       "    </tr>\n",
       "  </tbody>\n",
       "</table>\n",
       "<p>5 rows × 24 columns</p>\n",
       "</div>"
      ],
      "text/plain": [
       "   index             Order ID      Date                        Status  \\\n",
       "0      0  405-8078784-5731545  04-30-22                     Cancelled   \n",
       "1      1  171-9198151-1101146  04-30-22  Shipped - Delivered to Buyer   \n",
       "2      2  404-0687676-7273146  04-30-22                       Shipped   \n",
       "3      3  403-9615377-8133951  04-30-22                     Cancelled   \n",
       "4      4  407-1069790-7240320  04-30-22                       Shipped   \n",
       "\n",
       "  Fulfilment Sales Channel  ship-service-level    Style              SKU  \\\n",
       "0   Merchant      Amazon.in           Standard   SET389   SET389-KR-NP-S   \n",
       "1   Merchant      Amazon.in           Standard  JNE3781  JNE3781-KR-XXXL   \n",
       "2     Amazon      Amazon.in          Expedited  JNE3371    JNE3371-KR-XL   \n",
       "3   Merchant      Amazon.in           Standard    J0341       J0341-DR-L   \n",
       "4     Amazon      Amazon.in          Expedited  JNE3671  JNE3671-TU-XXXL   \n",
       "\n",
       "        Category  ... currency  Amount    ship-city   ship-state  \\\n",
       "0            Set  ...      INR  647.62       MUMBAI  MAHARASHTRA   \n",
       "1          kurta  ...      INR  406.00    BENGALURU    KARNATAKA   \n",
       "2          kurta  ...      INR  329.00  NAVI MUMBAI  MAHARASHTRA   \n",
       "3  Western Dress  ...      INR  753.33   PUDUCHERRY   PUDUCHERRY   \n",
       "4            Top  ...      INR  574.00      CHENNAI   TAMIL NADU   \n",
       "\n",
       "  ship-postal-code  ship-country  \\\n",
       "0         400081.0            IN   \n",
       "1         560085.0            IN   \n",
       "2         410210.0            IN   \n",
       "3         605008.0            IN   \n",
       "4         600073.0            IN   \n",
       "\n",
       "                                       promotion-ids    B2B  fulfilled-by  \\\n",
       "0                                                NaN  False     Easy Ship   \n",
       "1  Amazon PLCC Free-Financing Universal Merchant ...  False     Easy Ship   \n",
       "2       IN Core Free Shipping 2015/04/08 23-48-5-108   True           NaN   \n",
       "3                                                NaN  False     Easy Ship   \n",
       "4                                                NaN  False           NaN   \n",
       "\n",
       "  Unnamed: 22  \n",
       "0         NaN  \n",
       "1         NaN  \n",
       "2         NaN  \n",
       "3         NaN  \n",
       "4         NaN  \n",
       "\n",
       "[5 rows x 24 columns]"
      ]
     },
     "execution_count": 2,
     "metadata": {},
     "output_type": "execute_result"
    }
   ],
   "source": [
    "data = pd.read_csv('Amazon Sale Report.csv')\n",
    "data.head()"
   ]
  },
  {
   "cell_type": "markdown",
   "id": "f34794c6",
   "metadata": {},
   "source": [
    "## Dataset Recognizing"
   ]
  },
  {
   "cell_type": "code",
   "execution_count": 3,
   "id": "0c6775dd",
   "metadata": {},
   "outputs": [
    {
     "data": {
      "text/plain": [
       "(128975, 24)"
      ]
     },
     "execution_count": 3,
     "metadata": {},
     "output_type": "execute_result"
    }
   ],
   "source": [
    "data.shape"
   ]
  },
  {
   "cell_type": "code",
   "execution_count": 4,
   "id": "d9f642d8",
   "metadata": {},
   "outputs": [
    {
     "data": {
      "text/plain": [
       "index                   int64\n",
       "Order ID               object\n",
       "Date                   object\n",
       "Status                 object\n",
       "Fulfilment             object\n",
       "Sales Channel          object\n",
       "ship-service-level     object\n",
       "Style                  object\n",
       "SKU                    object\n",
       "Category               object\n",
       "Size                   object\n",
       "ASIN                   object\n",
       "Courier Status         object\n",
       "Qty                     int64\n",
       "currency               object\n",
       "Amount                float64\n",
       "ship-city              object\n",
       "ship-state             object\n",
       "ship-postal-code      float64\n",
       "ship-country           object\n",
       "promotion-ids          object\n",
       "B2B                      bool\n",
       "fulfilled-by           object\n",
       "Unnamed: 22            object\n",
       "dtype: object"
      ]
     },
     "execution_count": 4,
     "metadata": {},
     "output_type": "execute_result"
    }
   ],
   "source": [
    "data.dtypes"
   ]
  },
  {
   "cell_type": "code",
   "execution_count": 5,
   "id": "eeeb056e",
   "metadata": {},
   "outputs": [
    {
     "data": {
      "text/html": [
       "<div>\n",
       "<style scoped>\n",
       "    .dataframe tbody tr th:only-of-type {\n",
       "        vertical-align: middle;\n",
       "    }\n",
       "\n",
       "    .dataframe tbody tr th {\n",
       "        vertical-align: top;\n",
       "    }\n",
       "\n",
       "    .dataframe thead th {\n",
       "        text-align: right;\n",
       "    }\n",
       "</style>\n",
       "<table border=\"1\" class=\"dataframe\">\n",
       "  <thead>\n",
       "    <tr style=\"text-align: right;\">\n",
       "      <th></th>\n",
       "      <th>count</th>\n",
       "      <th>mean</th>\n",
       "      <th>std</th>\n",
       "      <th>min</th>\n",
       "      <th>25%</th>\n",
       "      <th>50%</th>\n",
       "      <th>75%</th>\n",
       "      <th>max</th>\n",
       "    </tr>\n",
       "  </thead>\n",
       "  <tbody>\n",
       "    <tr>\n",
       "      <th>index</th>\n",
       "      <td>128975.0</td>\n",
       "      <td>64487.000000</td>\n",
       "      <td>37232.019822</td>\n",
       "      <td>0.0</td>\n",
       "      <td>32243.5</td>\n",
       "      <td>64487.0</td>\n",
       "      <td>96730.5</td>\n",
       "      <td>128974.0</td>\n",
       "    </tr>\n",
       "    <tr>\n",
       "      <th>Qty</th>\n",
       "      <td>128975.0</td>\n",
       "      <td>0.904431</td>\n",
       "      <td>0.313354</td>\n",
       "      <td>0.0</td>\n",
       "      <td>1.0</td>\n",
       "      <td>1.0</td>\n",
       "      <td>1.0</td>\n",
       "      <td>15.0</td>\n",
       "    </tr>\n",
       "    <tr>\n",
       "      <th>Amount</th>\n",
       "      <td>121180.0</td>\n",
       "      <td>648.561465</td>\n",
       "      <td>281.211687</td>\n",
       "      <td>0.0</td>\n",
       "      <td>449.0</td>\n",
       "      <td>605.0</td>\n",
       "      <td>788.0</td>\n",
       "      <td>5584.0</td>\n",
       "    </tr>\n",
       "    <tr>\n",
       "      <th>ship-postal-code</th>\n",
       "      <td>128942.0</td>\n",
       "      <td>463966.236509</td>\n",
       "      <td>191476.764941</td>\n",
       "      <td>110001.0</td>\n",
       "      <td>382421.0</td>\n",
       "      <td>500033.0</td>\n",
       "      <td>600024.0</td>\n",
       "      <td>989898.0</td>\n",
       "    </tr>\n",
       "  </tbody>\n",
       "</table>\n",
       "</div>"
      ],
      "text/plain": [
       "                     count           mean            std       min       25%  \\\n",
       "index             128975.0   64487.000000   37232.019822       0.0   32243.5   \n",
       "Qty               128975.0       0.904431       0.313354       0.0       1.0   \n",
       "Amount            121180.0     648.561465     281.211687       0.0     449.0   \n",
       "ship-postal-code  128942.0  463966.236509  191476.764941  110001.0  382421.0   \n",
       "\n",
       "                       50%       75%       max  \n",
       "index              64487.0   96730.5  128974.0  \n",
       "Qty                    1.0       1.0      15.0  \n",
       "Amount               605.0     788.0    5584.0  \n",
       "ship-postal-code  500033.0  600024.0  989898.0  "
      ]
     },
     "execution_count": 5,
     "metadata": {},
     "output_type": "execute_result"
    }
   ],
   "source": [
    "data.describe().T"
   ]
  },
  {
   "cell_type": "code",
   "execution_count": 6,
   "id": "ba77cf02",
   "metadata": {},
   "outputs": [
    {
     "data": {
      "text/plain": [
       "index                     0\n",
       "Order ID                  0\n",
       "Date                      0\n",
       "Status                    0\n",
       "Fulfilment                0\n",
       "Sales Channel             0\n",
       "ship-service-level        0\n",
       "Style                     0\n",
       "SKU                       0\n",
       "Category                  0\n",
       "Size                      0\n",
       "ASIN                      0\n",
       "Courier Status         6872\n",
       "Qty                       0\n",
       "currency               7795\n",
       "Amount                 7795\n",
       "ship-city                33\n",
       "ship-state               33\n",
       "ship-postal-code         33\n",
       "ship-country             33\n",
       "promotion-ids         49153\n",
       "B2B                       0\n",
       "fulfilled-by          89698\n",
       "Unnamed: 22           49050\n",
       "dtype: int64"
      ]
     },
     "execution_count": 6,
     "metadata": {},
     "output_type": "execute_result"
    }
   ],
   "source": [
    "data.isna().sum()"
   ]
  },
  {
   "cell_type": "code",
   "execution_count": 7,
   "id": "de706c36",
   "metadata": {},
   "outputs": [
    {
     "data": {
      "text/html": [
       "<div>\n",
       "<style scoped>\n",
       "    .dataframe tbody tr th:only-of-type {\n",
       "        vertical-align: middle;\n",
       "    }\n",
       "\n",
       "    .dataframe tbody tr th {\n",
       "        vertical-align: top;\n",
       "    }\n",
       "\n",
       "    .dataframe thead th {\n",
       "        text-align: right;\n",
       "    }\n",
       "</style>\n",
       "<table border=\"1\" class=\"dataframe\">\n",
       "  <thead>\n",
       "    <tr style=\"text-align: right;\">\n",
       "      <th></th>\n",
       "      <th>Unique Values</th>\n",
       "    </tr>\n",
       "  </thead>\n",
       "  <tbody>\n",
       "    <tr>\n",
       "      <th>index</th>\n",
       "      <td>[0, 1, 2, 3, 4, 5, 6, 7, 8, 9, 10, 11, 12, 13,...</td>\n",
       "    </tr>\n",
       "    <tr>\n",
       "      <th>Order ID</th>\n",
       "      <td>[405-8078784-5731545, 171-9198151-1101146, 404...</td>\n",
       "    </tr>\n",
       "    <tr>\n",
       "      <th>Date</th>\n",
       "      <td>[04-30-22, 04-29-22, 04-28-22, 04-27-22, 04-26...</td>\n",
       "    </tr>\n",
       "    <tr>\n",
       "      <th>Status</th>\n",
       "      <td>[Cancelled, Shipped - Delivered to Buyer, Ship...</td>\n",
       "    </tr>\n",
       "    <tr>\n",
       "      <th>Fulfilment</th>\n",
       "      <td>[Merchant, Amazon]</td>\n",
       "    </tr>\n",
       "    <tr>\n",
       "      <th>Sales Channel</th>\n",
       "      <td>[Amazon.in, Non-Amazon]</td>\n",
       "    </tr>\n",
       "    <tr>\n",
       "      <th>ship-service-level</th>\n",
       "      <td>[Standard, Expedited]</td>\n",
       "    </tr>\n",
       "    <tr>\n",
       "      <th>Style</th>\n",
       "      <td>[SET389, JNE3781, JNE3371, J0341, JNE3671, SET...</td>\n",
       "    </tr>\n",
       "    <tr>\n",
       "      <th>SKU</th>\n",
       "      <td>[SET389-KR-NP-S, JNE3781-KR-XXXL, JNE3371-KR-X...</td>\n",
       "    </tr>\n",
       "    <tr>\n",
       "      <th>Category</th>\n",
       "      <td>[Set, kurta, Western Dress, Top, Ethnic Dress,...</td>\n",
       "    </tr>\n",
       "    <tr>\n",
       "      <th>Size</th>\n",
       "      <td>[S, 3XL, XL, L, XXL, XS, 6XL, M, 4XL, 5XL, Free]</td>\n",
       "    </tr>\n",
       "    <tr>\n",
       "      <th>ASIN</th>\n",
       "      <td>[B09KXVBD7Z, B09K3WFS32, B07WV4JV4D, B099NRCT7...</td>\n",
       "    </tr>\n",
       "    <tr>\n",
       "      <th>Courier Status</th>\n",
       "      <td>[nan, Shipped, Cancelled, Unshipped]</td>\n",
       "    </tr>\n",
       "    <tr>\n",
       "      <th>Qty</th>\n",
       "      <td>[0, 1, 2, 15, 3, 9, 13, 5, 4, 8]</td>\n",
       "    </tr>\n",
       "    <tr>\n",
       "      <th>currency</th>\n",
       "      <td>[INR, nan]</td>\n",
       "    </tr>\n",
       "    <tr>\n",
       "      <th>Amount</th>\n",
       "      <td>[647.62, 406.0, 329.0, 753.33, 574.0, 824.0, 6...</td>\n",
       "    </tr>\n",
       "    <tr>\n",
       "      <th>ship-city</th>\n",
       "      <td>[MUMBAI, BENGALURU, NAVI MUMBAI, PUDUCHERRY, C...</td>\n",
       "    </tr>\n",
       "    <tr>\n",
       "      <th>ship-state</th>\n",
       "      <td>[MAHARASHTRA, KARNATAKA, PUDUCHERRY, TAMIL NAD...</td>\n",
       "    </tr>\n",
       "    <tr>\n",
       "      <th>ship-postal-code</th>\n",
       "      <td>[400081.0, 560085.0, 410210.0, 605008.0, 60007...</td>\n",
       "    </tr>\n",
       "    <tr>\n",
       "      <th>ship-country</th>\n",
       "      <td>[IN, nan]</td>\n",
       "    </tr>\n",
       "    <tr>\n",
       "      <th>promotion-ids</th>\n",
       "      <td>[nan, Amazon PLCC Free-Financing Universal Mer...</td>\n",
       "    </tr>\n",
       "    <tr>\n",
       "      <th>B2B</th>\n",
       "      <td>[False, True]</td>\n",
       "    </tr>\n",
       "    <tr>\n",
       "      <th>fulfilled-by</th>\n",
       "      <td>[Easy Ship, nan]</td>\n",
       "    </tr>\n",
       "    <tr>\n",
       "      <th>Unnamed: 22</th>\n",
       "      <td>[nan, False]</td>\n",
       "    </tr>\n",
       "  </tbody>\n",
       "</table>\n",
       "</div>"
      ],
      "text/plain": [
       "                                                        Unique Values\n",
       "index               [0, 1, 2, 3, 4, 5, 6, 7, 8, 9, 10, 11, 12, 13,...\n",
       "Order ID            [405-8078784-5731545, 171-9198151-1101146, 404...\n",
       "Date                [04-30-22, 04-29-22, 04-28-22, 04-27-22, 04-26...\n",
       "Status              [Cancelled, Shipped - Delivered to Buyer, Ship...\n",
       "Fulfilment                                         [Merchant, Amazon]\n",
       "Sales Channel                                 [Amazon.in, Non-Amazon]\n",
       "ship-service-level                              [Standard, Expedited]\n",
       "Style               [SET389, JNE3781, JNE3371, J0341, JNE3671, SET...\n",
       "SKU                 [SET389-KR-NP-S, JNE3781-KR-XXXL, JNE3371-KR-X...\n",
       "Category            [Set, kurta, Western Dress, Top, Ethnic Dress,...\n",
       "Size                 [S, 3XL, XL, L, XXL, XS, 6XL, M, 4XL, 5XL, Free]\n",
       "ASIN                [B09KXVBD7Z, B09K3WFS32, B07WV4JV4D, B099NRCT7...\n",
       "Courier Status                   [nan, Shipped, Cancelled, Unshipped]\n",
       "Qty                                  [0, 1, 2, 15, 3, 9, 13, 5, 4, 8]\n",
       "currency                                                   [INR, nan]\n",
       "Amount              [647.62, 406.0, 329.0, 753.33, 574.0, 824.0, 6...\n",
       "ship-city           [MUMBAI, BENGALURU, NAVI MUMBAI, PUDUCHERRY, C...\n",
       "ship-state          [MAHARASHTRA, KARNATAKA, PUDUCHERRY, TAMIL NAD...\n",
       "ship-postal-code    [400081.0, 560085.0, 410210.0, 605008.0, 60007...\n",
       "ship-country                                                [IN, nan]\n",
       "promotion-ids       [nan, Amazon PLCC Free-Financing Universal Mer...\n",
       "B2B                                                     [False, True]\n",
       "fulfilled-by                                         [Easy Ship, nan]\n",
       "Unnamed: 22                                              [nan, False]"
      ]
     },
     "execution_count": 7,
     "metadata": {},
     "output_type": "execute_result"
    }
   ],
   "source": [
    "data.apply(pd.unique).to_frame(name='Unique Values')"
   ]
  },
  {
   "cell_type": "code",
   "execution_count": 8,
   "id": "5ef0dea1",
   "metadata": {},
   "outputs": [
    {
     "data": {
      "text/plain": [
       "Index(['index', 'Order ID', 'Date', 'Status', 'Fulfilment', 'Sales Channel ',\n",
       "       'ship-service-level', 'Style', 'SKU', 'Category', 'Size', 'ASIN',\n",
       "       'Courier Status', 'Qty', 'currency', 'Amount', 'ship-city',\n",
       "       'ship-state', 'ship-postal-code', 'ship-country', 'promotion-ids',\n",
       "       'B2B', 'fulfilled-by', 'Unnamed: 22'],\n",
       "      dtype='object')"
      ]
     },
     "execution_count": 8,
     "metadata": {},
     "output_type": "execute_result"
    }
   ],
   "source": [
    "data.columns"
   ]
  },
  {
   "cell_type": "markdown",
   "id": "9218bfb9",
   "metadata": {},
   "source": [
    "## Data Cleaning"
   ]
  },
  {
   "cell_type": "code",
   "execution_count": 9,
   "id": "4935ab08",
   "metadata": {},
   "outputs": [],
   "source": [
    "data.drop(columns= ['index','Unnamed: 22', 'fulfilled-by', 'ship-country', 'currency', 'Sales Channel '], inplace = True)"
   ]
  },
  {
   "cell_type": "code",
   "execution_count": 10,
   "id": "67ba7f7a",
   "metadata": {},
   "outputs": [
    {
     "data": {
      "text/html": [
       "<div>\n",
       "<style scoped>\n",
       "    .dataframe tbody tr th:only-of-type {\n",
       "        vertical-align: middle;\n",
       "    }\n",
       "\n",
       "    .dataframe tbody tr th {\n",
       "        vertical-align: top;\n",
       "    }\n",
       "\n",
       "    .dataframe thead th {\n",
       "        text-align: right;\n",
       "    }\n",
       "</style>\n",
       "<table border=\"1\" class=\"dataframe\">\n",
       "  <thead>\n",
       "    <tr style=\"text-align: right;\">\n",
       "      <th></th>\n",
       "      <th>Order ID</th>\n",
       "      <th>Date</th>\n",
       "      <th>Status</th>\n",
       "      <th>Fulfilment</th>\n",
       "      <th>ship-service-level</th>\n",
       "      <th>Style</th>\n",
       "      <th>SKU</th>\n",
       "      <th>Category</th>\n",
       "      <th>Size</th>\n",
       "      <th>ASIN</th>\n",
       "      <th>Courier Status</th>\n",
       "      <th>Qty</th>\n",
       "      <th>Amount</th>\n",
       "      <th>ship-city</th>\n",
       "      <th>ship-state</th>\n",
       "      <th>ship-postal-code</th>\n",
       "      <th>promotion-ids</th>\n",
       "      <th>B2B</th>\n",
       "    </tr>\n",
       "  </thead>\n",
       "  <tbody>\n",
       "    <tr>\n",
       "      <th>30660</th>\n",
       "      <td>406-0372545-6086735</td>\n",
       "      <td>04-12-22</td>\n",
       "      <td>Cancelled</td>\n",
       "      <td>Amazon</td>\n",
       "      <td>Expedited</td>\n",
       "      <td>SET197</td>\n",
       "      <td>SET197-KR-NP-L</td>\n",
       "      <td>Set</td>\n",
       "      <td>L</td>\n",
       "      <td>B08B3YPD63</td>\n",
       "      <td>Cancelled</td>\n",
       "      <td>0</td>\n",
       "      <td>NaN</td>\n",
       "      <td>Siliguri</td>\n",
       "      <td>WEST BENGAL</td>\n",
       "      <td>734008.0</td>\n",
       "      <td>NaN</td>\n",
       "      <td>False</td>\n",
       "    </tr>\n",
       "    <tr>\n",
       "      <th>30661</th>\n",
       "      <td>406-0372545-6086735</td>\n",
       "      <td>04-12-22</td>\n",
       "      <td>Cancelled</td>\n",
       "      <td>Amazon</td>\n",
       "      <td>Expedited</td>\n",
       "      <td>SET197</td>\n",
       "      <td>SET197-KR-NP-L</td>\n",
       "      <td>Set</td>\n",
       "      <td>L</td>\n",
       "      <td>B08B3YPD63</td>\n",
       "      <td>Cancelled</td>\n",
       "      <td>0</td>\n",
       "      <td>NaN</td>\n",
       "      <td>Siliguri</td>\n",
       "      <td>WEST BENGAL</td>\n",
       "      <td>734008.0</td>\n",
       "      <td>NaN</td>\n",
       "      <td>False</td>\n",
       "    </tr>\n",
       "    <tr>\n",
       "      <th>41291</th>\n",
       "      <td>408-0373839-4433120</td>\n",
       "      <td>04-05-22</td>\n",
       "      <td>Cancelled</td>\n",
       "      <td>Amazon</td>\n",
       "      <td>Expedited</td>\n",
       "      <td>JNE3501</td>\n",
       "      <td>JNE3501-KR-M</td>\n",
       "      <td>kurta</td>\n",
       "      <td>M</td>\n",
       "      <td>B08MYVCDB4</td>\n",
       "      <td>Cancelled</td>\n",
       "      <td>0</td>\n",
       "      <td>NaN</td>\n",
       "      <td>BENGALURU</td>\n",
       "      <td>KARNATAKA</td>\n",
       "      <td>560072.0</td>\n",
       "      <td>NaN</td>\n",
       "      <td>False</td>\n",
       "    </tr>\n",
       "    <tr>\n",
       "      <th>41292</th>\n",
       "      <td>408-0373839-4433120</td>\n",
       "      <td>04-05-22</td>\n",
       "      <td>Cancelled</td>\n",
       "      <td>Amazon</td>\n",
       "      <td>Expedited</td>\n",
       "      <td>JNE3501</td>\n",
       "      <td>JNE3501-KR-M</td>\n",
       "      <td>kurta</td>\n",
       "      <td>M</td>\n",
       "      <td>B08MYVCDB4</td>\n",
       "      <td>Cancelled</td>\n",
       "      <td>0</td>\n",
       "      <td>NaN</td>\n",
       "      <td>BENGALURU</td>\n",
       "      <td>KARNATAKA</td>\n",
       "      <td>560072.0</td>\n",
       "      <td>NaN</td>\n",
       "      <td>False</td>\n",
       "    </tr>\n",
       "    <tr>\n",
       "      <th>52330</th>\n",
       "      <td>407-8364731-6449117</td>\n",
       "      <td>05-29-22</td>\n",
       "      <td>Shipped</td>\n",
       "      <td>Amazon</td>\n",
       "      <td>Expedited</td>\n",
       "      <td>JNE3769</td>\n",
       "      <td>JNE3769-KR-L</td>\n",
       "      <td>kurta</td>\n",
       "      <td>L</td>\n",
       "      <td>B09K3T675B</td>\n",
       "      <td>Cancelled</td>\n",
       "      <td>0</td>\n",
       "      <td>NaN</td>\n",
       "      <td>Theni</td>\n",
       "      <td>TAMIL NADU</td>\n",
       "      <td>625579.0</td>\n",
       "      <td>IN Core Free Shipping 2015/04/08 23-48-5-108</td>\n",
       "      <td>False</td>\n",
       "    </tr>\n",
       "    <tr>\n",
       "      <th>52333</th>\n",
       "      <td>407-8364731-6449117</td>\n",
       "      <td>05-29-22</td>\n",
       "      <td>Shipped</td>\n",
       "      <td>Amazon</td>\n",
       "      <td>Expedited</td>\n",
       "      <td>JNE3769</td>\n",
       "      <td>JNE3769-KR-L</td>\n",
       "      <td>kurta</td>\n",
       "      <td>L</td>\n",
       "      <td>B09K3T675B</td>\n",
       "      <td>Shipped</td>\n",
       "      <td>1</td>\n",
       "      <td>487.0</td>\n",
       "      <td>Theni</td>\n",
       "      <td>TAMIL NADU</td>\n",
       "      <td>625579.0</td>\n",
       "      <td>IN Core Free Shipping 2015/04/08 23-48-5-108</td>\n",
       "      <td>False</td>\n",
       "    </tr>\n",
       "    <tr>\n",
       "      <th>79844</th>\n",
       "      <td>171-9628368-5329958</td>\n",
       "      <td>05-07-22</td>\n",
       "      <td>Cancelled</td>\n",
       "      <td>Amazon</td>\n",
       "      <td>Expedited</td>\n",
       "      <td>J0329</td>\n",
       "      <td>J0329-KR-L</td>\n",
       "      <td>kurta</td>\n",
       "      <td>L</td>\n",
       "      <td>B09KXRB7JV</td>\n",
       "      <td>Cancelled</td>\n",
       "      <td>0</td>\n",
       "      <td>NaN</td>\n",
       "      <td>ERNAKULAM</td>\n",
       "      <td>KERALA</td>\n",
       "      <td>682017.0</td>\n",
       "      <td>NaN</td>\n",
       "      <td>False</td>\n",
       "    </tr>\n",
       "    <tr>\n",
       "      <th>79845</th>\n",
       "      <td>171-9628368-5329958</td>\n",
       "      <td>05-07-22</td>\n",
       "      <td>Cancelled</td>\n",
       "      <td>Amazon</td>\n",
       "      <td>Expedited</td>\n",
       "      <td>J0329</td>\n",
       "      <td>J0329-KR-L</td>\n",
       "      <td>kurta</td>\n",
       "      <td>L</td>\n",
       "      <td>B09KXRB7JV</td>\n",
       "      <td>Cancelled</td>\n",
       "      <td>0</td>\n",
       "      <td>NaN</td>\n",
       "      <td>ERNAKULAM</td>\n",
       "      <td>KERALA</td>\n",
       "      <td>682017.0</td>\n",
       "      <td>NaN</td>\n",
       "      <td>False</td>\n",
       "    </tr>\n",
       "    <tr>\n",
       "      <th>85790</th>\n",
       "      <td>171-3249942-2207542</td>\n",
       "      <td>05-03-22</td>\n",
       "      <td>Shipped</td>\n",
       "      <td>Amazon</td>\n",
       "      <td>Expedited</td>\n",
       "      <td>SET323</td>\n",
       "      <td>SET323-KR-NP-XL</td>\n",
       "      <td>Set</td>\n",
       "      <td>XL</td>\n",
       "      <td>B09NDKKM7P</td>\n",
       "      <td>Shipped</td>\n",
       "      <td>1</td>\n",
       "      <td>939.0</td>\n",
       "      <td>PUNE</td>\n",
       "      <td>MAHARASHTRA</td>\n",
       "      <td>411057.0</td>\n",
       "      <td>IN Core Free Shipping 2015/04/08 23-48-5-108</td>\n",
       "      <td>False</td>\n",
       "    </tr>\n",
       "    <tr>\n",
       "      <th>85791</th>\n",
       "      <td>171-3249942-2207542</td>\n",
       "      <td>05-03-22</td>\n",
       "      <td>Shipped</td>\n",
       "      <td>Amazon</td>\n",
       "      <td>Expedited</td>\n",
       "      <td>SET323</td>\n",
       "      <td>SET323-KR-NP-XL</td>\n",
       "      <td>Set</td>\n",
       "      <td>XL</td>\n",
       "      <td>B09NDKKM7P</td>\n",
       "      <td>Shipped</td>\n",
       "      <td>1</td>\n",
       "      <td>939.0</td>\n",
       "      <td>PUNE</td>\n",
       "      <td>MAHARASHTRA</td>\n",
       "      <td>411057.0</td>\n",
       "      <td>IN Core Free Shipping 2015/04/08 23-48-5-108</td>\n",
       "      <td>False</td>\n",
       "    </tr>\n",
       "    <tr>\n",
       "      <th>86418</th>\n",
       "      <td>405-8669298-3850736</td>\n",
       "      <td>05-03-22</td>\n",
       "      <td>Shipped</td>\n",
       "      <td>Amazon</td>\n",
       "      <td>Expedited</td>\n",
       "      <td>MEN5025</td>\n",
       "      <td>MEN5025-KR-XXXL</td>\n",
       "      <td>kurta</td>\n",
       "      <td>3XL</td>\n",
       "      <td>B08YYQS8FH</td>\n",
       "      <td>Shipped</td>\n",
       "      <td>1</td>\n",
       "      <td>533.0</td>\n",
       "      <td>GHAZIABAD</td>\n",
       "      <td>UTTAR PRADESH</td>\n",
       "      <td>201010.0</td>\n",
       "      <td>IN Core Free Shipping 2015/04/08 23-48-5-108</td>\n",
       "      <td>False</td>\n",
       "    </tr>\n",
       "    <tr>\n",
       "      <th>86419</th>\n",
       "      <td>405-8669298-3850736</td>\n",
       "      <td>05-03-22</td>\n",
       "      <td>Shipped</td>\n",
       "      <td>Amazon</td>\n",
       "      <td>Expedited</td>\n",
       "      <td>MEN5025</td>\n",
       "      <td>MEN5025-KR-XXXL</td>\n",
       "      <td>kurta</td>\n",
       "      <td>3XL</td>\n",
       "      <td>B08YYQS8FH</td>\n",
       "      <td>Shipped</td>\n",
       "      <td>1</td>\n",
       "      <td>533.0</td>\n",
       "      <td>GHAZIABAD</td>\n",
       "      <td>UTTAR PRADESH</td>\n",
       "      <td>201010.0</td>\n",
       "      <td>IN Core Free Shipping 2015/04/08 23-48-5-108</td>\n",
       "      <td>False</td>\n",
       "    </tr>\n",
       "    <tr>\n",
       "      <th>98954</th>\n",
       "      <td>407-4853873-4978725</td>\n",
       "      <td>06-22-22</td>\n",
       "      <td>Shipped</td>\n",
       "      <td>Amazon</td>\n",
       "      <td>Expedited</td>\n",
       "      <td>J0230</td>\n",
       "      <td>J0230-SKD-M</td>\n",
       "      <td>Set</td>\n",
       "      <td>M</td>\n",
       "      <td>B08XNJG8B1</td>\n",
       "      <td>Shipped</td>\n",
       "      <td>1</td>\n",
       "      <td>1163.0</td>\n",
       "      <td>Zirakpur</td>\n",
       "      <td>Punjab</td>\n",
       "      <td>140603.0</td>\n",
       "      <td>IN Core Free Shipping 2015/04/08 23-48-5-108</td>\n",
       "      <td>False</td>\n",
       "    </tr>\n",
       "    <tr>\n",
       "      <th>98955</th>\n",
       "      <td>407-4853873-4978725</td>\n",
       "      <td>06-22-22</td>\n",
       "      <td>Shipped</td>\n",
       "      <td>Amazon</td>\n",
       "      <td>Expedited</td>\n",
       "      <td>J0230</td>\n",
       "      <td>J0230-SKD-M</td>\n",
       "      <td>Set</td>\n",
       "      <td>M</td>\n",
       "      <td>B08XNJG8B1</td>\n",
       "      <td>Shipped</td>\n",
       "      <td>1</td>\n",
       "      <td>1163.0</td>\n",
       "      <td>Zirakpur</td>\n",
       "      <td>Punjab</td>\n",
       "      <td>140603.0</td>\n",
       "      <td>IN Core Free Shipping 2015/04/08 23-48-5-108</td>\n",
       "      <td>False</td>\n",
       "    </tr>\n",
       "  </tbody>\n",
       "</table>\n",
       "</div>"
      ],
      "text/plain": [
       "                  Order ID      Date     Status Fulfilment ship-service-level  \\\n",
       "30660  406-0372545-6086735  04-12-22  Cancelled     Amazon          Expedited   \n",
       "30661  406-0372545-6086735  04-12-22  Cancelled     Amazon          Expedited   \n",
       "41291  408-0373839-4433120  04-05-22  Cancelled     Amazon          Expedited   \n",
       "41292  408-0373839-4433120  04-05-22  Cancelled     Amazon          Expedited   \n",
       "52330  407-8364731-6449117  05-29-22    Shipped     Amazon          Expedited   \n",
       "52333  407-8364731-6449117  05-29-22    Shipped     Amazon          Expedited   \n",
       "79844  171-9628368-5329958  05-07-22  Cancelled     Amazon          Expedited   \n",
       "79845  171-9628368-5329958  05-07-22  Cancelled     Amazon          Expedited   \n",
       "85790  171-3249942-2207542  05-03-22    Shipped     Amazon          Expedited   \n",
       "85791  171-3249942-2207542  05-03-22    Shipped     Amazon          Expedited   \n",
       "86418  405-8669298-3850736  05-03-22    Shipped     Amazon          Expedited   \n",
       "86419  405-8669298-3850736  05-03-22    Shipped     Amazon          Expedited   \n",
       "98954  407-4853873-4978725  06-22-22    Shipped     Amazon          Expedited   \n",
       "98955  407-4853873-4978725  06-22-22    Shipped     Amazon          Expedited   \n",
       "\n",
       "         Style              SKU Category Size        ASIN Courier Status  Qty  \\\n",
       "30660   SET197   SET197-KR-NP-L      Set    L  B08B3YPD63      Cancelled    0   \n",
       "30661   SET197   SET197-KR-NP-L      Set    L  B08B3YPD63      Cancelled    0   \n",
       "41291  JNE3501     JNE3501-KR-M    kurta    M  B08MYVCDB4      Cancelled    0   \n",
       "41292  JNE3501     JNE3501-KR-M    kurta    M  B08MYVCDB4      Cancelled    0   \n",
       "52330  JNE3769     JNE3769-KR-L    kurta    L  B09K3T675B      Cancelled    0   \n",
       "52333  JNE3769     JNE3769-KR-L    kurta    L  B09K3T675B        Shipped    1   \n",
       "79844    J0329       J0329-KR-L    kurta    L  B09KXRB7JV      Cancelled    0   \n",
       "79845    J0329       J0329-KR-L    kurta    L  B09KXRB7JV      Cancelled    0   \n",
       "85790   SET323  SET323-KR-NP-XL      Set   XL  B09NDKKM7P        Shipped    1   \n",
       "85791   SET323  SET323-KR-NP-XL      Set   XL  B09NDKKM7P        Shipped    1   \n",
       "86418  MEN5025  MEN5025-KR-XXXL    kurta  3XL  B08YYQS8FH        Shipped    1   \n",
       "86419  MEN5025  MEN5025-KR-XXXL    kurta  3XL  B08YYQS8FH        Shipped    1   \n",
       "98954    J0230      J0230-SKD-M      Set    M  B08XNJG8B1        Shipped    1   \n",
       "98955    J0230      J0230-SKD-M      Set    M  B08XNJG8B1        Shipped    1   \n",
       "\n",
       "       Amount  ship-city     ship-state  ship-postal-code  \\\n",
       "30660     NaN   Siliguri    WEST BENGAL          734008.0   \n",
       "30661     NaN   Siliguri    WEST BENGAL          734008.0   \n",
       "41291     NaN  BENGALURU      KARNATAKA          560072.0   \n",
       "41292     NaN  BENGALURU      KARNATAKA          560072.0   \n",
       "52330     NaN      Theni     TAMIL NADU          625579.0   \n",
       "52333   487.0      Theni     TAMIL NADU          625579.0   \n",
       "79844     NaN  ERNAKULAM         KERALA          682017.0   \n",
       "79845     NaN  ERNAKULAM         KERALA          682017.0   \n",
       "85790   939.0       PUNE    MAHARASHTRA          411057.0   \n",
       "85791   939.0       PUNE    MAHARASHTRA          411057.0   \n",
       "86418   533.0  GHAZIABAD  UTTAR PRADESH          201010.0   \n",
       "86419   533.0  GHAZIABAD  UTTAR PRADESH          201010.0   \n",
       "98954  1163.0   Zirakpur         Punjab          140603.0   \n",
       "98955  1163.0   Zirakpur         Punjab          140603.0   \n",
       "\n",
       "                                      promotion-ids    B2B  \n",
       "30660                                           NaN  False  \n",
       "30661                                           NaN  False  \n",
       "41291                                           NaN  False  \n",
       "41292                                           NaN  False  \n",
       "52330  IN Core Free Shipping 2015/04/08 23-48-5-108  False  \n",
       "52333  IN Core Free Shipping 2015/04/08 23-48-5-108  False  \n",
       "79844                                           NaN  False  \n",
       "79845                                           NaN  False  \n",
       "85790  IN Core Free Shipping 2015/04/08 23-48-5-108  False  \n",
       "85791  IN Core Free Shipping 2015/04/08 23-48-5-108  False  \n",
       "86418  IN Core Free Shipping 2015/04/08 23-48-5-108  False  \n",
       "86419  IN Core Free Shipping 2015/04/08 23-48-5-108  False  \n",
       "98954  IN Core Free Shipping 2015/04/08 23-48-5-108  False  \n",
       "98955  IN Core Free Shipping 2015/04/08 23-48-5-108  False  "
      ]
     },
     "execution_count": 10,
     "metadata": {},
     "output_type": "execute_result"
    }
   ],
   "source": [
    "data[data.duplicated(['Order ID','ASIN'], keep=False)]"
   ]
  },
  {
   "cell_type": "code",
   "execution_count": 11,
   "id": "c5e7b266",
   "metadata": {},
   "outputs": [
    {
     "data": {
      "text/plain": [
       "7"
      ]
     },
     "execution_count": 11,
     "metadata": {},
     "output_type": "execute_result"
    }
   ],
   "source": [
    "len(data)-len(data.drop_duplicates(['Order ID','ASIN']))"
   ]
  },
  {
   "cell_type": "code",
   "execution_count": 12,
   "id": "7cff14c1",
   "metadata": {},
   "outputs": [],
   "source": [
    "data.drop_duplicates(['Order ID','ASIN'],inplace = True,ignore_index=True)"
   ]
  },
  {
   "cell_type": "markdown",
   "id": "59bc4309",
   "metadata": {},
   "source": [
    "#### Filling in null values"
   ]
  },
  {
   "cell_type": "code",
   "execution_count": 13,
   "id": "0e5a15c3",
   "metadata": {},
   "outputs": [
    {
     "data": {
      "text/plain": [
       "Order ID                  0\n",
       "Date                      0\n",
       "Status                    0\n",
       "Fulfilment                0\n",
       "ship-service-level        0\n",
       "Style                     0\n",
       "SKU                       0\n",
       "Category                  0\n",
       "Size                      0\n",
       "ASIN                      0\n",
       "Courier Status         6872\n",
       "Qty                       0\n",
       "Amount                 7792\n",
       "ship-city                33\n",
       "ship-state               33\n",
       "ship-postal-code         33\n",
       "promotion-ids         49150\n",
       "B2B                       0\n",
       "dtype: int64"
      ]
     },
     "execution_count": 13,
     "metadata": {},
     "output_type": "execute_result"
    }
   ],
   "source": [
    "data.isna().sum()"
   ]
  },
  {
   "cell_type": "code",
   "execution_count": 14,
   "id": "1f0c0cff",
   "metadata": {},
   "outputs": [],
   "source": [
    "data['Courier Status'].fillna('Unavailable',inplace=True)"
   ]
  },
  {
   "cell_type": "code",
   "execution_count": 15,
   "id": "25553715",
   "metadata": {},
   "outputs": [],
   "source": [
    "data['promotion-ids'].fillna('Not Promoted',inplace=True)"
   ]
  },
  {
   "cell_type": "code",
   "execution_count": 16,
   "id": "07a4e81c",
   "metadata": {},
   "outputs": [
    {
     "data": {
      "text/html": [
       "<div>\n",
       "<style scoped>\n",
       "    .dataframe tbody tr th:only-of-type {\n",
       "        vertical-align: middle;\n",
       "    }\n",
       "\n",
       "    .dataframe tbody tr th {\n",
       "        vertical-align: top;\n",
       "    }\n",
       "\n",
       "    .dataframe thead th {\n",
       "        text-align: right;\n",
       "    }\n",
       "</style>\n",
       "<table border=\"1\" class=\"dataframe\">\n",
       "  <thead>\n",
       "    <tr style=\"text-align: right;\">\n",
       "      <th></th>\n",
       "      <th>Order ID</th>\n",
       "      <th>Date</th>\n",
       "      <th>Status</th>\n",
       "      <th>Fulfilment</th>\n",
       "      <th>ship-service-level</th>\n",
       "      <th>Style</th>\n",
       "      <th>SKU</th>\n",
       "      <th>Category</th>\n",
       "      <th>Size</th>\n",
       "      <th>ASIN</th>\n",
       "      <th>Courier Status</th>\n",
       "      <th>Qty</th>\n",
       "      <th>Amount</th>\n",
       "      <th>ship-city</th>\n",
       "      <th>ship-state</th>\n",
       "      <th>ship-postal-code</th>\n",
       "      <th>promotion-ids</th>\n",
       "      <th>B2B</th>\n",
       "    </tr>\n",
       "  </thead>\n",
       "  <tbody>\n",
       "    <tr>\n",
       "      <th>8</th>\n",
       "      <td>407-5443024-5233168</td>\n",
       "      <td>04-30-22</td>\n",
       "      <td>Cancelled</td>\n",
       "      <td>Amazon</td>\n",
       "      <td>Expedited</td>\n",
       "      <td>SET200</td>\n",
       "      <td>SET200-KR-NP-A-XXXL</td>\n",
       "      <td>Set</td>\n",
       "      <td>3XL</td>\n",
       "      <td>B08L91ZZXN</td>\n",
       "      <td>Cancelled</td>\n",
       "      <td>0</td>\n",
       "      <td>NaN</td>\n",
       "      <td>HYDERABAD</td>\n",
       "      <td>TELANGANA</td>\n",
       "      <td>500008.0</td>\n",
       "      <td>IN Core Free Shipping 2015/04/08 23-48-5-108</td>\n",
       "      <td>False</td>\n",
       "    </tr>\n",
       "    <tr>\n",
       "      <th>29</th>\n",
       "      <td>404-5933402-8801952</td>\n",
       "      <td>04-30-22</td>\n",
       "      <td>Cancelled</td>\n",
       "      <td>Merchant</td>\n",
       "      <td>Standard</td>\n",
       "      <td>JNE2132</td>\n",
       "      <td>JNE2132-KR-398-XXXL</td>\n",
       "      <td>kurta</td>\n",
       "      <td>3XL</td>\n",
       "      <td>B07JG3CND8</td>\n",
       "      <td>Unavailable</td>\n",
       "      <td>0</td>\n",
       "      <td>NaN</td>\n",
       "      <td>GUWAHATI</td>\n",
       "      <td>ASSAM</td>\n",
       "      <td>781003.0</td>\n",
       "      <td>Not Promoted</td>\n",
       "      <td>False</td>\n",
       "    </tr>\n",
       "    <tr>\n",
       "      <th>65</th>\n",
       "      <td>171-4137548-0481151</td>\n",
       "      <td>04-30-22</td>\n",
       "      <td>Cancelled</td>\n",
       "      <td>Amazon</td>\n",
       "      <td>Expedited</td>\n",
       "      <td>JNE3373</td>\n",
       "      <td>JNE3373-KR-XXL</td>\n",
       "      <td>kurta</td>\n",
       "      <td>XXL</td>\n",
       "      <td>B082W8RWN1</td>\n",
       "      <td>Cancelled</td>\n",
       "      <td>0</td>\n",
       "      <td>NaN</td>\n",
       "      <td>Dahod</td>\n",
       "      <td>Gujarat</td>\n",
       "      <td>389151.0</td>\n",
       "      <td>Not Promoted</td>\n",
       "      <td>False</td>\n",
       "    </tr>\n",
       "    <tr>\n",
       "      <th>84</th>\n",
       "      <td>403-9950518-0349133</td>\n",
       "      <td>04-30-22</td>\n",
       "      <td>Cancelled</td>\n",
       "      <td>Amazon</td>\n",
       "      <td>Expedited</td>\n",
       "      <td>JNE3510</td>\n",
       "      <td>JNE3510-KR-M</td>\n",
       "      <td>kurta</td>\n",
       "      <td>M</td>\n",
       "      <td>B08WPR5MCB</td>\n",
       "      <td>Cancelled</td>\n",
       "      <td>0</td>\n",
       "      <td>NaN</td>\n",
       "      <td>HYDERABAD</td>\n",
       "      <td>TELANGANA</td>\n",
       "      <td>500072.0</td>\n",
       "      <td>Not Promoted</td>\n",
       "      <td>False</td>\n",
       "    </tr>\n",
       "    <tr>\n",
       "      <th>95</th>\n",
       "      <td>405-9112089-3379536</td>\n",
       "      <td>04-30-22</td>\n",
       "      <td>Cancelled</td>\n",
       "      <td>Amazon</td>\n",
       "      <td>Expedited</td>\n",
       "      <td>JNE3405</td>\n",
       "      <td>JNE3405-KR-L</td>\n",
       "      <td>kurta</td>\n",
       "      <td>L</td>\n",
       "      <td>B081WSCKPQ</td>\n",
       "      <td>Cancelled</td>\n",
       "      <td>0</td>\n",
       "      <td>NaN</td>\n",
       "      <td>PUNE</td>\n",
       "      <td>MAHARASHTRA</td>\n",
       "      <td>411046.0</td>\n",
       "      <td>Not Promoted</td>\n",
       "      <td>False</td>\n",
       "    </tr>\n",
       "    <tr>\n",
       "      <th>...</th>\n",
       "      <td>...</td>\n",
       "      <td>...</td>\n",
       "      <td>...</td>\n",
       "      <td>...</td>\n",
       "      <td>...</td>\n",
       "      <td>...</td>\n",
       "      <td>...</td>\n",
       "      <td>...</td>\n",
       "      <td>...</td>\n",
       "      <td>...</td>\n",
       "      <td>...</td>\n",
       "      <td>...</td>\n",
       "      <td>...</td>\n",
       "      <td>...</td>\n",
       "      <td>...</td>\n",
       "      <td>...</td>\n",
       "      <td>...</td>\n",
       "      <td>...</td>\n",
       "    </tr>\n",
       "    <tr>\n",
       "      <th>128896</th>\n",
       "      <td>406-3923120-4345139</td>\n",
       "      <td>05-31-22</td>\n",
       "      <td>Cancelled</td>\n",
       "      <td>Amazon</td>\n",
       "      <td>Expedited</td>\n",
       "      <td>JNE3801</td>\n",
       "      <td>JNE3801-KR-M</td>\n",
       "      <td>kurta</td>\n",
       "      <td>M</td>\n",
       "      <td>B09SDZ4FH9</td>\n",
       "      <td>Cancelled</td>\n",
       "      <td>0</td>\n",
       "      <td>NaN</td>\n",
       "      <td>ANANTAPUR</td>\n",
       "      <td>ANDHRA PRADESH</td>\n",
       "      <td>515001.0</td>\n",
       "      <td>Not Promoted</td>\n",
       "      <td>False</td>\n",
       "    </tr>\n",
       "    <tr>\n",
       "      <th>128900</th>\n",
       "      <td>403-6757403-6097100</td>\n",
       "      <td>05-31-22</td>\n",
       "      <td>Cancelled</td>\n",
       "      <td>Amazon</td>\n",
       "      <td>Expedited</td>\n",
       "      <td>NW014</td>\n",
       "      <td>NW014-ST-SR-XXXL</td>\n",
       "      <td>Set</td>\n",
       "      <td>3XL</td>\n",
       "      <td>B0928ZT74Y</td>\n",
       "      <td>Cancelled</td>\n",
       "      <td>0</td>\n",
       "      <td>NaN</td>\n",
       "      <td>GREATER NOIDA</td>\n",
       "      <td>UTTAR PRADESH</td>\n",
       "      <td>201306.0</td>\n",
       "      <td>Not Promoted</td>\n",
       "      <td>False</td>\n",
       "    </tr>\n",
       "    <tr>\n",
       "      <th>128901</th>\n",
       "      <td>403-6757403-6097100</td>\n",
       "      <td>05-31-22</td>\n",
       "      <td>Cancelled</td>\n",
       "      <td>Amazon</td>\n",
       "      <td>Expedited</td>\n",
       "      <td>NW007</td>\n",
       "      <td>NW007-ST-CP-XXXL</td>\n",
       "      <td>Set</td>\n",
       "      <td>3XL</td>\n",
       "      <td>B0928YCMQP</td>\n",
       "      <td>Cancelled</td>\n",
       "      <td>0</td>\n",
       "      <td>NaN</td>\n",
       "      <td>GREATER NOIDA</td>\n",
       "      <td>UTTAR PRADESH</td>\n",
       "      <td>201306.0</td>\n",
       "      <td>Not Promoted</td>\n",
       "      <td>False</td>\n",
       "    </tr>\n",
       "    <tr>\n",
       "      <th>128951</th>\n",
       "      <td>408-9513596-4393945</td>\n",
       "      <td>05-31-22</td>\n",
       "      <td>Cancelled</td>\n",
       "      <td>Amazon</td>\n",
       "      <td>Expedited</td>\n",
       "      <td>SET058</td>\n",
       "      <td>SET058-KR-NP-L</td>\n",
       "      <td>Set</td>\n",
       "      <td>L</td>\n",
       "      <td>B07R487XRD</td>\n",
       "      <td>Cancelled</td>\n",
       "      <td>0</td>\n",
       "      <td>NaN</td>\n",
       "      <td>Bengaluru</td>\n",
       "      <td>KARNATAKA</td>\n",
       "      <td>560037.0</td>\n",
       "      <td>Not Promoted</td>\n",
       "      <td>False</td>\n",
       "    </tr>\n",
       "    <tr>\n",
       "      <th>128960</th>\n",
       "      <td>404-5182288-1653947</td>\n",
       "      <td>05-31-22</td>\n",
       "      <td>Cancelled</td>\n",
       "      <td>Amazon</td>\n",
       "      <td>Expedited</td>\n",
       "      <td>JNE3638</td>\n",
       "      <td>JNE3638-KR-XS</td>\n",
       "      <td>kurta</td>\n",
       "      <td>XS</td>\n",
       "      <td>B09814Q3QH</td>\n",
       "      <td>Cancelled</td>\n",
       "      <td>0</td>\n",
       "      <td>NaN</td>\n",
       "      <td>Kolkata</td>\n",
       "      <td>WEST BENGAL</td>\n",
       "      <td>700040.0</td>\n",
       "      <td>Not Promoted</td>\n",
       "      <td>False</td>\n",
       "    </tr>\n",
       "  </tbody>\n",
       "</table>\n",
       "<p>7792 rows × 18 columns</p>\n",
       "</div>"
      ],
      "text/plain": [
       "                   Order ID      Date     Status Fulfilment  \\\n",
       "8       407-5443024-5233168  04-30-22  Cancelled     Amazon   \n",
       "29      404-5933402-8801952  04-30-22  Cancelled   Merchant   \n",
       "65      171-4137548-0481151  04-30-22  Cancelled     Amazon   \n",
       "84      403-9950518-0349133  04-30-22  Cancelled     Amazon   \n",
       "95      405-9112089-3379536  04-30-22  Cancelled     Amazon   \n",
       "...                     ...       ...        ...        ...   \n",
       "128896  406-3923120-4345139  05-31-22  Cancelled     Amazon   \n",
       "128900  403-6757403-6097100  05-31-22  Cancelled     Amazon   \n",
       "128901  403-6757403-6097100  05-31-22  Cancelled     Amazon   \n",
       "128951  408-9513596-4393945  05-31-22  Cancelled     Amazon   \n",
       "128960  404-5182288-1653947  05-31-22  Cancelled     Amazon   \n",
       "\n",
       "       ship-service-level    Style                  SKU Category Size  \\\n",
       "8               Expedited   SET200  SET200-KR-NP-A-XXXL      Set  3XL   \n",
       "29               Standard  JNE2132  JNE2132-KR-398-XXXL    kurta  3XL   \n",
       "65              Expedited  JNE3373       JNE3373-KR-XXL    kurta  XXL   \n",
       "84              Expedited  JNE3510         JNE3510-KR-M    kurta    M   \n",
       "95              Expedited  JNE3405         JNE3405-KR-L    kurta    L   \n",
       "...                   ...      ...                  ...      ...  ...   \n",
       "128896          Expedited  JNE3801         JNE3801-KR-M    kurta    M   \n",
       "128900          Expedited    NW014     NW014-ST-SR-XXXL      Set  3XL   \n",
       "128901          Expedited    NW007     NW007-ST-CP-XXXL      Set  3XL   \n",
       "128951          Expedited   SET058       SET058-KR-NP-L      Set    L   \n",
       "128960          Expedited  JNE3638        JNE3638-KR-XS    kurta   XS   \n",
       "\n",
       "              ASIN Courier Status  Qty  Amount      ship-city      ship-state  \\\n",
       "8       B08L91ZZXN      Cancelled    0     NaN      HYDERABAD       TELANGANA   \n",
       "29      B07JG3CND8    Unavailable    0     NaN       GUWAHATI           ASSAM   \n",
       "65      B082W8RWN1      Cancelled    0     NaN          Dahod         Gujarat   \n",
       "84      B08WPR5MCB      Cancelled    0     NaN      HYDERABAD       TELANGANA   \n",
       "95      B081WSCKPQ      Cancelled    0     NaN           PUNE     MAHARASHTRA   \n",
       "...            ...            ...  ...     ...            ...             ...   \n",
       "128896  B09SDZ4FH9      Cancelled    0     NaN      ANANTAPUR  ANDHRA PRADESH   \n",
       "128900  B0928ZT74Y      Cancelled    0     NaN  GREATER NOIDA   UTTAR PRADESH   \n",
       "128901  B0928YCMQP      Cancelled    0     NaN  GREATER NOIDA   UTTAR PRADESH   \n",
       "128951  B07R487XRD      Cancelled    0     NaN      Bengaluru       KARNATAKA   \n",
       "128960  B09814Q3QH      Cancelled    0     NaN        Kolkata     WEST BENGAL   \n",
       "\n",
       "        ship-postal-code                                 promotion-ids    B2B  \n",
       "8               500008.0  IN Core Free Shipping 2015/04/08 23-48-5-108  False  \n",
       "29              781003.0                                  Not Promoted  False  \n",
       "65              389151.0                                  Not Promoted  False  \n",
       "84              500072.0                                  Not Promoted  False  \n",
       "95              411046.0                                  Not Promoted  False  \n",
       "...                  ...                                           ...    ...  \n",
       "128896          515001.0                                  Not Promoted  False  \n",
       "128900          201306.0                                  Not Promoted  False  \n",
       "128901          201306.0                                  Not Promoted  False  \n",
       "128951          560037.0                                  Not Promoted  False  \n",
       "128960          700040.0                                  Not Promoted  False  \n",
       "\n",
       "[7792 rows x 18 columns]"
      ]
     },
     "execution_count": 16,
     "metadata": {},
     "output_type": "execute_result"
    }
   ],
   "source": [
    "data[data['Amount'].isnull()]"
   ]
  },
  {
   "cell_type": "code",
   "execution_count": 17,
   "id": "3f4fcc7a",
   "metadata": {},
   "outputs": [
    {
     "data": {
      "text/html": [
       "<div>\n",
       "<style scoped>\n",
       "    .dataframe tbody tr th:only-of-type {\n",
       "        vertical-align: middle;\n",
       "    }\n",
       "\n",
       "    .dataframe tbody tr th {\n",
       "        vertical-align: top;\n",
       "    }\n",
       "\n",
       "    .dataframe thead th {\n",
       "        text-align: right;\n",
       "    }\n",
       "</style>\n",
       "<table border=\"1\" class=\"dataframe\">\n",
       "  <thead>\n",
       "    <tr style=\"text-align: right;\">\n",
       "      <th></th>\n",
       "      <th>Order ID</th>\n",
       "      <th>Date</th>\n",
       "      <th>Status</th>\n",
       "      <th>Fulfilment</th>\n",
       "      <th>ship-service-level</th>\n",
       "      <th>Style</th>\n",
       "      <th>SKU</th>\n",
       "      <th>Category</th>\n",
       "      <th>Size</th>\n",
       "      <th>ASIN</th>\n",
       "      <th>Courier Status</th>\n",
       "      <th>Qty</th>\n",
       "      <th>Amount</th>\n",
       "      <th>ship-city</th>\n",
       "      <th>ship-state</th>\n",
       "      <th>ship-postal-code</th>\n",
       "      <th>promotion-ids</th>\n",
       "      <th>B2B</th>\n",
       "    </tr>\n",
       "  </thead>\n",
       "  <tbody>\n",
       "    <tr>\n",
       "      <th>8</th>\n",
       "      <td>407-5443024-5233168</td>\n",
       "      <td>04-30-22</td>\n",
       "      <td>Cancelled</td>\n",
       "      <td>Amazon</td>\n",
       "      <td>Expedited</td>\n",
       "      <td>SET200</td>\n",
       "      <td>SET200-KR-NP-A-XXXL</td>\n",
       "      <td>Set</td>\n",
       "      <td>3XL</td>\n",
       "      <td>B08L91ZZXN</td>\n",
       "      <td>Cancelled</td>\n",
       "      <td>0</td>\n",
       "      <td>NaN</td>\n",
       "      <td>HYDERABAD</td>\n",
       "      <td>TELANGANA</td>\n",
       "      <td>500008.0</td>\n",
       "      <td>IN Core Free Shipping 2015/04/08 23-48-5-108</td>\n",
       "      <td>False</td>\n",
       "    </tr>\n",
       "    <tr>\n",
       "      <th>29</th>\n",
       "      <td>404-5933402-8801952</td>\n",
       "      <td>04-30-22</td>\n",
       "      <td>Cancelled</td>\n",
       "      <td>Merchant</td>\n",
       "      <td>Standard</td>\n",
       "      <td>JNE2132</td>\n",
       "      <td>JNE2132-KR-398-XXXL</td>\n",
       "      <td>kurta</td>\n",
       "      <td>3XL</td>\n",
       "      <td>B07JG3CND8</td>\n",
       "      <td>Unavailable</td>\n",
       "      <td>0</td>\n",
       "      <td>NaN</td>\n",
       "      <td>GUWAHATI</td>\n",
       "      <td>ASSAM</td>\n",
       "      <td>781003.0</td>\n",
       "      <td>Not Promoted</td>\n",
       "      <td>False</td>\n",
       "    </tr>\n",
       "    <tr>\n",
       "      <th>65</th>\n",
       "      <td>171-4137548-0481151</td>\n",
       "      <td>04-30-22</td>\n",
       "      <td>Cancelled</td>\n",
       "      <td>Amazon</td>\n",
       "      <td>Expedited</td>\n",
       "      <td>JNE3373</td>\n",
       "      <td>JNE3373-KR-XXL</td>\n",
       "      <td>kurta</td>\n",
       "      <td>XXL</td>\n",
       "      <td>B082W8RWN1</td>\n",
       "      <td>Cancelled</td>\n",
       "      <td>0</td>\n",
       "      <td>NaN</td>\n",
       "      <td>Dahod</td>\n",
       "      <td>Gujarat</td>\n",
       "      <td>389151.0</td>\n",
       "      <td>Not Promoted</td>\n",
       "      <td>False</td>\n",
       "    </tr>\n",
       "    <tr>\n",
       "      <th>84</th>\n",
       "      <td>403-9950518-0349133</td>\n",
       "      <td>04-30-22</td>\n",
       "      <td>Cancelled</td>\n",
       "      <td>Amazon</td>\n",
       "      <td>Expedited</td>\n",
       "      <td>JNE3510</td>\n",
       "      <td>JNE3510-KR-M</td>\n",
       "      <td>kurta</td>\n",
       "      <td>M</td>\n",
       "      <td>B08WPR5MCB</td>\n",
       "      <td>Cancelled</td>\n",
       "      <td>0</td>\n",
       "      <td>NaN</td>\n",
       "      <td>HYDERABAD</td>\n",
       "      <td>TELANGANA</td>\n",
       "      <td>500072.0</td>\n",
       "      <td>Not Promoted</td>\n",
       "      <td>False</td>\n",
       "    </tr>\n",
       "    <tr>\n",
       "      <th>95</th>\n",
       "      <td>405-9112089-3379536</td>\n",
       "      <td>04-30-22</td>\n",
       "      <td>Cancelled</td>\n",
       "      <td>Amazon</td>\n",
       "      <td>Expedited</td>\n",
       "      <td>JNE3405</td>\n",
       "      <td>JNE3405-KR-L</td>\n",
       "      <td>kurta</td>\n",
       "      <td>L</td>\n",
       "      <td>B081WSCKPQ</td>\n",
       "      <td>Cancelled</td>\n",
       "      <td>0</td>\n",
       "      <td>NaN</td>\n",
       "      <td>PUNE</td>\n",
       "      <td>MAHARASHTRA</td>\n",
       "      <td>411046.0</td>\n",
       "      <td>Not Promoted</td>\n",
       "      <td>False</td>\n",
       "    </tr>\n",
       "    <tr>\n",
       "      <th>...</th>\n",
       "      <td>...</td>\n",
       "      <td>...</td>\n",
       "      <td>...</td>\n",
       "      <td>...</td>\n",
       "      <td>...</td>\n",
       "      <td>...</td>\n",
       "      <td>...</td>\n",
       "      <td>...</td>\n",
       "      <td>...</td>\n",
       "      <td>...</td>\n",
       "      <td>...</td>\n",
       "      <td>...</td>\n",
       "      <td>...</td>\n",
       "      <td>...</td>\n",
       "      <td>...</td>\n",
       "      <td>...</td>\n",
       "      <td>...</td>\n",
       "      <td>...</td>\n",
       "    </tr>\n",
       "    <tr>\n",
       "      <th>128896</th>\n",
       "      <td>406-3923120-4345139</td>\n",
       "      <td>05-31-22</td>\n",
       "      <td>Cancelled</td>\n",
       "      <td>Amazon</td>\n",
       "      <td>Expedited</td>\n",
       "      <td>JNE3801</td>\n",
       "      <td>JNE3801-KR-M</td>\n",
       "      <td>kurta</td>\n",
       "      <td>M</td>\n",
       "      <td>B09SDZ4FH9</td>\n",
       "      <td>Cancelled</td>\n",
       "      <td>0</td>\n",
       "      <td>NaN</td>\n",
       "      <td>ANANTAPUR</td>\n",
       "      <td>ANDHRA PRADESH</td>\n",
       "      <td>515001.0</td>\n",
       "      <td>Not Promoted</td>\n",
       "      <td>False</td>\n",
       "    </tr>\n",
       "    <tr>\n",
       "      <th>128900</th>\n",
       "      <td>403-6757403-6097100</td>\n",
       "      <td>05-31-22</td>\n",
       "      <td>Cancelled</td>\n",
       "      <td>Amazon</td>\n",
       "      <td>Expedited</td>\n",
       "      <td>NW014</td>\n",
       "      <td>NW014-ST-SR-XXXL</td>\n",
       "      <td>Set</td>\n",
       "      <td>3XL</td>\n",
       "      <td>B0928ZT74Y</td>\n",
       "      <td>Cancelled</td>\n",
       "      <td>0</td>\n",
       "      <td>NaN</td>\n",
       "      <td>GREATER NOIDA</td>\n",
       "      <td>UTTAR PRADESH</td>\n",
       "      <td>201306.0</td>\n",
       "      <td>Not Promoted</td>\n",
       "      <td>False</td>\n",
       "    </tr>\n",
       "    <tr>\n",
       "      <th>128901</th>\n",
       "      <td>403-6757403-6097100</td>\n",
       "      <td>05-31-22</td>\n",
       "      <td>Cancelled</td>\n",
       "      <td>Amazon</td>\n",
       "      <td>Expedited</td>\n",
       "      <td>NW007</td>\n",
       "      <td>NW007-ST-CP-XXXL</td>\n",
       "      <td>Set</td>\n",
       "      <td>3XL</td>\n",
       "      <td>B0928YCMQP</td>\n",
       "      <td>Cancelled</td>\n",
       "      <td>0</td>\n",
       "      <td>NaN</td>\n",
       "      <td>GREATER NOIDA</td>\n",
       "      <td>UTTAR PRADESH</td>\n",
       "      <td>201306.0</td>\n",
       "      <td>Not Promoted</td>\n",
       "      <td>False</td>\n",
       "    </tr>\n",
       "    <tr>\n",
       "      <th>128951</th>\n",
       "      <td>408-9513596-4393945</td>\n",
       "      <td>05-31-22</td>\n",
       "      <td>Cancelled</td>\n",
       "      <td>Amazon</td>\n",
       "      <td>Expedited</td>\n",
       "      <td>SET058</td>\n",
       "      <td>SET058-KR-NP-L</td>\n",
       "      <td>Set</td>\n",
       "      <td>L</td>\n",
       "      <td>B07R487XRD</td>\n",
       "      <td>Cancelled</td>\n",
       "      <td>0</td>\n",
       "      <td>NaN</td>\n",
       "      <td>Bengaluru</td>\n",
       "      <td>KARNATAKA</td>\n",
       "      <td>560037.0</td>\n",
       "      <td>Not Promoted</td>\n",
       "      <td>False</td>\n",
       "    </tr>\n",
       "    <tr>\n",
       "      <th>128960</th>\n",
       "      <td>404-5182288-1653947</td>\n",
       "      <td>05-31-22</td>\n",
       "      <td>Cancelled</td>\n",
       "      <td>Amazon</td>\n",
       "      <td>Expedited</td>\n",
       "      <td>JNE3638</td>\n",
       "      <td>JNE3638-KR-XS</td>\n",
       "      <td>kurta</td>\n",
       "      <td>XS</td>\n",
       "      <td>B09814Q3QH</td>\n",
       "      <td>Cancelled</td>\n",
       "      <td>0</td>\n",
       "      <td>NaN</td>\n",
       "      <td>Kolkata</td>\n",
       "      <td>WEST BENGAL</td>\n",
       "      <td>700040.0</td>\n",
       "      <td>Not Promoted</td>\n",
       "      <td>False</td>\n",
       "    </tr>\n",
       "  </tbody>\n",
       "</table>\n",
       "<p>7563 rows × 18 columns</p>\n",
       "</div>"
      ],
      "text/plain": [
       "                   Order ID      Date     Status Fulfilment  \\\n",
       "8       407-5443024-5233168  04-30-22  Cancelled     Amazon   \n",
       "29      404-5933402-8801952  04-30-22  Cancelled   Merchant   \n",
       "65      171-4137548-0481151  04-30-22  Cancelled     Amazon   \n",
       "84      403-9950518-0349133  04-30-22  Cancelled     Amazon   \n",
       "95      405-9112089-3379536  04-30-22  Cancelled     Amazon   \n",
       "...                     ...       ...        ...        ...   \n",
       "128896  406-3923120-4345139  05-31-22  Cancelled     Amazon   \n",
       "128900  403-6757403-6097100  05-31-22  Cancelled     Amazon   \n",
       "128901  403-6757403-6097100  05-31-22  Cancelled     Amazon   \n",
       "128951  408-9513596-4393945  05-31-22  Cancelled     Amazon   \n",
       "128960  404-5182288-1653947  05-31-22  Cancelled     Amazon   \n",
       "\n",
       "       ship-service-level    Style                  SKU Category Size  \\\n",
       "8               Expedited   SET200  SET200-KR-NP-A-XXXL      Set  3XL   \n",
       "29               Standard  JNE2132  JNE2132-KR-398-XXXL    kurta  3XL   \n",
       "65              Expedited  JNE3373       JNE3373-KR-XXL    kurta  XXL   \n",
       "84              Expedited  JNE3510         JNE3510-KR-M    kurta    M   \n",
       "95              Expedited  JNE3405         JNE3405-KR-L    kurta    L   \n",
       "...                   ...      ...                  ...      ...  ...   \n",
       "128896          Expedited  JNE3801         JNE3801-KR-M    kurta    M   \n",
       "128900          Expedited    NW014     NW014-ST-SR-XXXL      Set  3XL   \n",
       "128901          Expedited    NW007     NW007-ST-CP-XXXL      Set  3XL   \n",
       "128951          Expedited   SET058       SET058-KR-NP-L      Set    L   \n",
       "128960          Expedited  JNE3638        JNE3638-KR-XS    kurta   XS   \n",
       "\n",
       "              ASIN Courier Status  Qty  Amount      ship-city      ship-state  \\\n",
       "8       B08L91ZZXN      Cancelled    0     NaN      HYDERABAD       TELANGANA   \n",
       "29      B07JG3CND8    Unavailable    0     NaN       GUWAHATI           ASSAM   \n",
       "65      B082W8RWN1      Cancelled    0     NaN          Dahod         Gujarat   \n",
       "84      B08WPR5MCB      Cancelled    0     NaN      HYDERABAD       TELANGANA   \n",
       "95      B081WSCKPQ      Cancelled    0     NaN           PUNE     MAHARASHTRA   \n",
       "...            ...            ...  ...     ...            ...             ...   \n",
       "128896  B09SDZ4FH9      Cancelled    0     NaN      ANANTAPUR  ANDHRA PRADESH   \n",
       "128900  B0928ZT74Y      Cancelled    0     NaN  GREATER NOIDA   UTTAR PRADESH   \n",
       "128901  B0928YCMQP      Cancelled    0     NaN  GREATER NOIDA   UTTAR PRADESH   \n",
       "128951  B07R487XRD      Cancelled    0     NaN      Bengaluru       KARNATAKA   \n",
       "128960  B09814Q3QH      Cancelled    0     NaN        Kolkata     WEST BENGAL   \n",
       "\n",
       "        ship-postal-code                                 promotion-ids    B2B  \n",
       "8               500008.0  IN Core Free Shipping 2015/04/08 23-48-5-108  False  \n",
       "29              781003.0                                  Not Promoted  False  \n",
       "65              389151.0                                  Not Promoted  False  \n",
       "84              500072.0                                  Not Promoted  False  \n",
       "95              411046.0                                  Not Promoted  False  \n",
       "...                  ...                                           ...    ...  \n",
       "128896          515001.0                                  Not Promoted  False  \n",
       "128900          201306.0                                  Not Promoted  False  \n",
       "128901          201306.0                                  Not Promoted  False  \n",
       "128951          560037.0                                  Not Promoted  False  \n",
       "128960          700040.0                                  Not Promoted  False  \n",
       "\n",
       "[7563 rows x 18 columns]"
      ]
     },
     "execution_count": 17,
     "metadata": {},
     "output_type": "execute_result"
    }
   ],
   "source": [
    "data[(data['Amount'].isnull()) & (data['Status'] == 'Cancelled')]"
   ]
  },
  {
   "cell_type": "code",
   "execution_count": 18,
   "id": "dac9448d",
   "metadata": {},
   "outputs": [
    {
     "data": {
      "text/plain": [
       "Status\n",
       "Cancelled                       97.06%\n",
       "Shipped                          2.67%\n",
       "Shipped - Delivered to Buyer     0.10%\n",
       "Shipping                         0.10%\n",
       "Shipped - Returned to Seller     0.04%\n",
       "Pending                          0.03%\n",
       "Name: proportion, dtype: object"
      ]
     },
     "execution_count": 18,
     "metadata": {},
     "output_type": "execute_result"
    }
   ],
   "source": [
    "data[data['Amount'].isnull()]['Status'].value_counts(normalize=True).apply(lambda x: format(x, '.2%'))"
   ]
  },
  {
   "cell_type": "code",
   "execution_count": 19,
   "id": "b932123f",
   "metadata": {},
   "outputs": [],
   "source": [
    "data['Amount'].fillna(0,inplace=True)"
   ]
  },
  {
   "cell_type": "code",
   "execution_count": 20,
   "id": "56809793",
   "metadata": {},
   "outputs": [],
   "source": [
    "data['ship-city'].fillna('Unavailable', inplace = True)\n",
    "data['ship-state'].fillna('Unavailable', inplace = True)\n",
    "data['ship-postal-code'].fillna('Unavailable', inplace = True)"
   ]
  },
  {
   "cell_type": "code",
   "execution_count": 21,
   "id": "183393c3",
   "metadata": {},
   "outputs": [
    {
     "data": {
      "text/plain": [
       "Order ID              0\n",
       "Date                  0\n",
       "Status                0\n",
       "Fulfilment            0\n",
       "ship-service-level    0\n",
       "Style                 0\n",
       "SKU                   0\n",
       "Category              0\n",
       "Size                  0\n",
       "ASIN                  0\n",
       "Courier Status        0\n",
       "Qty                   0\n",
       "Amount                0\n",
       "ship-city             0\n",
       "ship-state            0\n",
       "ship-postal-code      0\n",
       "promotion-ids         0\n",
       "B2B                   0\n",
       "dtype: int64"
      ]
     },
     "execution_count": 21,
     "metadata": {},
     "output_type": "execute_result"
    }
   ],
   "source": [
    "data.isna().sum()"
   ]
  },
  {
   "cell_type": "markdown",
   "id": "0ebb8e00",
   "metadata": {},
   "source": [
    "#### Renaming Columns"
   ]
  },
  {
   "cell_type": "code",
   "execution_count": 22,
   "id": "1534cbe0",
   "metadata": {},
   "outputs": [
    {
     "data": {
      "text/plain": [
       "Index(['Order ID', 'Date', 'Status', 'Fulfilment', 'ship-service-level',\n",
       "       'Style', 'SKU', 'Category', 'Size', 'ASIN', 'Courier Status', 'Qty',\n",
       "       'Amount', 'ship-city', 'ship-state', 'ship-postal-code',\n",
       "       'promotion-ids', 'B2B'],\n",
       "      dtype='object')"
      ]
     },
     "execution_count": 22,
     "metadata": {},
     "output_type": "execute_result"
    }
   ],
   "source": [
    "data.columns"
   ]
  },
  {
   "cell_type": "code",
   "execution_count": 23,
   "id": "8ab4cc81",
   "metadata": {},
   "outputs": [
    {
     "name": "stdout",
     "output_type": "stream",
     "text": [
      "Index(['order_ID', 'date', 'cargo_status', 'fulfilment', 'service_level',\n",
      "       'style', 'stock_unit', 'product_cate', 'size', 'amazon_ID',\n",
      "       'courier_ship_status', 'order_qty', 'order_amount_($)', 'city', 'state',\n",
      "       'zip', 'promotion', 'customer_cate'],\n",
      "      dtype='object')\n"
     ]
    }
   ],
   "source": [
    "data = data.rename(columns={\n",
    "            'Order ID': 'order_ID', 'Date': 'date',\n",
    "            'Status': 'cargo_status', 'Fulfilment': 'fulfilment',\n",
    "            'ship-service-level': 'service_level', 'Style': 'style',\n",
    "            'SKU': 'stock_unit', 'Category': 'product_cate',\n",
    "            'Size': 'size', 'ASIN': 'amazon_ID',\n",
    "            'Courier Status': 'courier_ship_status', 'Qty': 'order_qty',\n",
    "            'Amount': 'order_amount_($)', 'ship-city': 'city',\n",
    "            'ship-state': 'state', 'ship-postal-code': 'zip',\n",
    "            'promotion-ids': 'promotion', 'B2B': 'customer_cate',\n",
    "            })\n",
    "print(data.columns)"
   ]
  },
  {
   "cell_type": "markdown",
   "id": "d0825c91",
   "metadata": {},
   "source": [
    "#### Convert Column Values"
   ]
  },
  {
   "cell_type": "code",
   "execution_count": 24,
   "id": "15762d9d",
   "metadata": {},
   "outputs": [],
   "source": [
    "exchange_rate = 0.0120988\n",
    "data['order_amount_($)'] = data['order_amount_($)'].apply(lambda x: x * exchange_rate)"
   ]
  },
  {
   "cell_type": "code",
   "execution_count": 25,
   "id": "bee30f18",
   "metadata": {},
   "outputs": [],
   "source": [
    "data['customer_cate'].replace(to_replace=[True,False],value=['business','customer'], inplace=True)"
   ]
  },
  {
   "cell_type": "code",
   "execution_count": 26,
   "id": "28212819",
   "metadata": {},
   "outputs": [
    {
     "name": "stderr",
     "output_type": "stream",
     "text": [
      "C:\\Users\\user\\AppData\\Local\\Temp\\ipykernel_18224\\736794659.py:1: UserWarning: Could not infer format, so each element will be parsed individually, falling back to `dateutil`. To ensure parsing is consistent and as-expected, please specify a format.\n",
      "  data['date'] = pd.to_datetime(data['date'])\n"
     ]
    }
   ],
   "source": [
    "data['date'] = pd.to_datetime(data['date'])"
   ]
  },
  {
   "cell_type": "code",
   "execution_count": 27,
   "id": "02424e91",
   "metadata": {},
   "outputs": [
    {
     "data": {
      "text/plain": [
       "1"
      ]
     },
     "execution_count": 27,
     "metadata": {},
     "output_type": "execute_result"
    }
   ],
   "source": [
    "data['date'][data['date'].dt.month == 3].dt.day.nunique()"
   ]
  },
  {
   "cell_type": "code",
   "execution_count": 28,
   "id": "5111599e",
   "metadata": {},
   "outputs": [],
   "source": [
    "data = data[(data['date'].dt.month != 3)]"
   ]
  },
  {
   "cell_type": "code",
   "execution_count": 29,
   "id": "3bb0431f",
   "metadata": {},
   "outputs": [
    {
     "data": {
      "text/plain": [
       "array([4, 5, 6])"
      ]
     },
     "execution_count": 29,
     "metadata": {},
     "output_type": "execute_result"
    }
   ],
   "source": [
    "data['month'] = data['date'].dt.month\n",
    "data[\"month\"].unique()"
   ]
  },
  {
   "cell_type": "markdown",
   "id": "7de7eb6f",
   "metadata": {},
   "source": [
    "#### Sorting Column Values"
   ]
  },
  {
   "cell_type": "code",
   "execution_count": 30,
   "id": "f0dcb970",
   "metadata": {},
   "outputs": [],
   "source": [
    "months = { 4: 'april',5: 'may',6: 'june'}\n",
    "data['month'] = data['date'].dt.month.map(months)"
   ]
  },
  {
   "cell_type": "code",
   "execution_count": 31,
   "id": "0b4d9498",
   "metadata": {},
   "outputs": [],
   "source": [
    "month_order = ['april', 'may', 'june']\n",
    "\n",
    "data['month'] = pd.Categorical(data['month'], categories=month_order, ordered=True)"
   ]
  },
  {
   "cell_type": "code",
   "execution_count": 32,
   "id": "0544f4a0",
   "metadata": {},
   "outputs": [
    {
     "name": "stdout",
     "output_type": "stream",
     "text": [
      "This dataset contains the months ['april', 'may', 'june']\n",
      "Categories (3, object): ['april' < 'may' < 'june'] for year 2022\n",
      "The earliest date is 2022-04-01 00:00:00\n",
      "The latest date is 2022-06-29 00:00:00\n"
     ]
    }
   ],
   "source": [
    "print(f'This dataset contains the months {data[\"month\"].unique()} for year 2022')\n",
    "print(f'The earliest date is {data[\"date\"].min()}')\n",
    "print(f'The latest date is {data[\"date\"].max()}')"
   ]
  },
  {
   "cell_type": "code",
   "execution_count": 33,
   "id": "d41710d0",
   "metadata": {},
   "outputs": [],
   "source": [
    "size_order = ['Free','XS', 'S', 'M', 'L', 'XL', 'XXL', '3XL', '4XL', '5XL', '6XL']\n",
    "\n",
    "data.loc[:, 'size'] = pd.Categorical(data['size'], categories=size_order, ordered=True)"
   ]
  },
  {
   "cell_type": "markdown",
   "id": "c485be9e",
   "metadata": {},
   "source": [
    "# Data Visualization / EDA"
   ]
  },
  {
   "cell_type": "markdown",
   "id": "dbe51fb9",
   "metadata": {},
   "source": [
    "### Sales Analysis"
   ]
  },
  {
   "cell_type": "markdown",
   "id": "a4dc7e48",
   "metadata": {},
   "source": [
    "#### What is the total revenue generated over a specific time period?"
   ]
  },
  {
   "cell_type": "code",
   "execution_count": 43,
   "id": "b73d2c64",
   "metadata": {},
   "outputs": [
    {
     "name": "stdout",
     "output_type": "stream",
     "text": [
      "Total revenue generated from 2022-04-01 00:00:00 to 2022-06-29 00:00:00: $949,609.07\n"
     ]
    }
   ],
   "source": [
    "total_revenue = data['order_amount_($)'].sum()\n",
    "\n",
    "print(f'Total revenue generated from {data[\"date\"].min()} to {data[\"date\"].max()}: ${total_revenue:,.2f}') #.2f for 2 decimals"
   ]
  },
  {
   "cell_type": "code",
   "execution_count": 34,
   "id": "90f7d665",
   "metadata": {},
   "outputs": [
    {
     "name": "stdout",
     "output_type": "stream",
     "text": [
      "Total revenue for April 2022: $348,913.76\n",
      "Total revenue for May 2022: $317,285.20, which is a -9.06% decrease from April.\n",
      "Total revenue for June 2022: $283,410.11, which is a -10.68% decrease from May.\n",
      "Total revenue for Q2 2022 decreased by -18.77%\n"
     ]
    }
   ],
   "source": [
    "revenue_by_month = data.groupby('month')['order_amount_($)'].sum()\n",
    "percent_decrease_apr_to_may = (revenue_by_month['april'] - revenue_by_month['may']) / revenue_by_month['april'] * 100\n",
    "percent_decrease_may_to_jun = (revenue_by_month['may'] - revenue_by_month['june']) / revenue_by_month['may'] * 100\n",
    "total_decrease = (revenue_by_month['april'] - revenue_by_month['june']) / revenue_by_month['april'] * 100\n",
    "\n",
    "print(f\"Total revenue for April 2022: ${revenue_by_month['april']:,.2f}\")\n",
    "print(f\"Total revenue for May 2022: ${revenue_by_month['may']:,.2f}, which is a -{percent_decrease_apr_to_may:.2f}% decrease from April.\")\n",
    "print(f\"Total revenue for June 2022: ${revenue_by_month['june']:,.2f}, which is a -{percent_decrease_may_to_jun:.2f}% decrease from May.\")\n",
    "print(f\"Total revenue for Q2 2022 decreased by -{total_decrease:.2f}%\")"
   ]
  },
  {
   "cell_type": "markdown",
   "id": "2b07d705",
   "metadata": {},
   "source": [
    "Insights:\n",
    "Notable difference with significant decrease in revenue over two months."
   ]
  },
  {
   "cell_type": "markdown",
   "id": "09c4aa19",
   "metadata": {},
   "source": [
    "#### What are the top 10 product categories by sales?"
   ]
  },
  {
   "cell_type": "code",
   "execution_count": 35,
   "id": "1ae53c91",
   "metadata": {},
   "outputs": [
    {
     "name": "stdout",
     "output_type": "stream",
     "text": [
      "Total revenue by product category:\n",
      "product_cate\n",
      "Set              $473,645.49\n",
      "kurta            $257,272.15\n",
      "Western Dress    $135,608.42\n",
      "Top               $64,647.29\n",
      "Ethnic Dress       $9,559.49\n",
      "Blouse             $5,542.80\n",
      "Bottom             $1,822.90\n",
      "Saree              $1,499.45\n",
      "Dupatta               $11.07\n",
      "Name: order_amount_($), dtype: object\n"
     ]
    }
   ],
   "source": [
    "revenue_by_category = data.groupby('product_cate')['order_amount_($)'].sum().sort_values(ascending=False)\n",
    "\n",
    "print(\"Total revenue by product category:\")\n",
    "print(revenue_by_category.apply(lambda x: \"${:,.2f}\".format(x)))"
   ]
  },
  {
   "cell_type": "code",
   "execution_count": 36,
   "id": "c142af37",
   "metadata": {},
   "outputs": [
    {
     "name": "stdout",
     "output_type": "stream",
     "text": [
      "Percentage of revenue by product category:\n",
      "product_cate\n",
      "Set              49.88%\n",
      "kurta            27.09%\n",
      "Western Dress    14.28%\n",
      "Top               6.81%\n",
      "Ethnic Dress      1.01%\n",
      "Blouse            0.58%\n",
      "Bottom            0.19%\n",
      "Saree             0.16%\n",
      "Dupatta           0.00%\n",
      "Name: order_amount_($), dtype: object\n"
     ]
    }
   ],
   "source": [
    "revenue_by_category = data.groupby('product_cate')['order_amount_($)'].sum()\n",
    "percent_revenue_by_category = ((revenue_by_category / revenue_by_category.sum()) * 100).sort_values(ascending=False)\n",
    "percent_revenue_by_category = percent_revenue_by_category.apply(lambda x: \"{:.2f}%\".format(x))\n",
    "\n",
    "print(\"Percentage of revenue by product category:\")\n",
    "print(percent_revenue_by_category)"
   ]
  },
  {
   "cell_type": "markdown",
   "id": "2ef06e0d",
   "metadata": {},
   "source": [
    "Insights:\n",
    "Set is the most sold category, possibly noting sales occur with sets and/or amazon buyers tend to lean for convinience rather than putting together several single pieces of clothing."
   ]
  },
  {
   "cell_type": "markdown",
   "id": "6baba099",
   "metadata": {},
   "source": [
    "#### What is the average order value?"
   ]
  },
  {
   "cell_type": "code",
   "execution_count": 65,
   "id": "5244a28b",
   "metadata": {},
   "outputs": [
    {
     "name": "stdout",
     "output_type": "stream",
     "text": [
      "Average Order Value: $7.37\n"
     ]
    }
   ],
   "source": [
    "total_orders = data.shape[0]\n",
    "average_order_value = total_revenue / total_orders\n",
    "\n",
    "print(f'Average Order Value: ${average_order_value:.2f}')"
   ]
  },
  {
   "cell_type": "code",
   "execution_count": 40,
   "id": "4a447948",
   "metadata": {},
   "outputs": [
    {
     "name": "stdout",
     "output_type": "stream",
     "text": [
      "            average_order_amount  average_order_quantity\n",
      "date                                                    \n",
      "2022-04-30              7.111256                0.900968\n",
      "2022-05-31              7.547940                0.904177\n",
      "2022-06-30              7.518307                0.909248\n"
     ]
    }
   ],
   "source": [
    "monthly_order_data = data.groupby(pd.Grouper(key='date', freq='M')).agg({'order_amount_($)': 'mean', 'order_qty': 'mean'})\n",
    "monthly_order_data = monthly_order_data.rename(columns={'order_amount_($)': 'average_order_amount', 'order_qty': 'average_order_quantity'})\n",
    "\n",
    "print(monthly_order_data)"
   ]
  },
  {
   "cell_type": "code",
   "execution_count": 37,
   "id": "b9e13918",
   "metadata": {},
   "outputs": [
    {
     "name": "stdout",
     "output_type": "stream",
     "text": [
      "Top 5 product categories by average price:\n",
      "product_cate\n",
      "Set              9.434042\n",
      "Saree            9.142986\n",
      "Western Dress    8.754014\n",
      "Ethnic Dress     8.255171\n",
      "Top              6.091331\n",
      "Name: order_amount_($), dtype: float64\n"
     ]
    }
   ],
   "source": [
    "avg_price_by_category = data.groupby('product_cate')['order_amount_($)'].mean()\n",
    "avg_price_by_category = avg_price_by_category.sort_values(ascending=False)\n",
    "\n",
    "print(\"Top 5 product categories by average price:\")\n",
    "print(avg_price_by_category.head(5))"
   ]
  },
  {
   "cell_type": "markdown",
   "id": "e8a8f13b",
   "metadata": {},
   "source": [
    "Insights:\n",
    "No significant deviation of every month average order to total orders although in May and June, people tend to order less in quantity and price but higher for a single purchase (categories for average price above total)."
   ]
  },
  {
   "cell_type": "markdown",
   "id": "9159cc0d",
   "metadata": {},
   "source": [
    "#### What are the peak sales periods (day, month)?"
   ]
  },
  {
   "cell_type": "code",
   "execution_count": 66,
   "id": "a200bd1e",
   "metadata": {},
   "outputs": [
    {
     "name": "stdout",
     "output_type": "stream",
     "text": [
      "Peak Sales Day: 2022-05-04\n",
      "Peak Sales Month: 2022-04\n"
     ]
    }
   ],
   "source": [
    "data['date'] = pd.to_datetime(data['date'])\n",
    "\n",
    "data['month'] = data['date'].dt.month\n",
    "\n",
    "daily_sales = data.groupby(data['date']).agg({'order_amount_($)': 'sum'})\n",
    "monthly_sales = data.groupby(pd.Grouper(key='date', freq='M')).agg({'order_amount_($)': 'sum'}) #grouper func with 'Month' freq\n",
    "\n",
    "peak_sales_day = daily_sales.idxmax()[0].strftime('%Y-%m-%d') #strftime('%Y-%m-%d') is reformat YYYY-MM-DD\n",
    "peak_sales_month = monthly_sales.idxmax()[0].strftime('%Y-%m')\n",
    "\n",
    "print(f\"Peak Sales Day: {peak_sales_day}\")\n",
    "print(f\"Peak Sales Month: {peak_sales_month}\")"
   ]
  },
  {
   "cell_type": "markdown",
   "id": "ea7d0633",
   "metadata": {},
   "source": [
    "### Customer Analysis"
   ]
  },
  {
   "cell_type": "markdown",
   "id": "619c3d01",
   "metadata": {},
   "source": [
    "#### What are the top cities/states for sales?"
   ]
  },
  {
   "cell_type": "code",
   "execution_count": 67,
   "id": "75ba735c",
   "metadata": {},
   "outputs": [
    {
     "name": "stdout",
     "output_type": "stream",
     "text": [
      "Top cities for product sales:\n",
      "city\n",
      "BENGALURU    82781.19\n",
      "HYDERABAD    59791.70\n",
      "MUMBAI       44781.81\n",
      "NEW DELHI    43638.01\n",
      "CHENNAI      37430.25\n",
      "PUNE         28219.12\n",
      "KOLKATA      17076.55\n",
      "GURUGRAM     14771.68\n",
      "THANE        12133.94\n",
      "LUCKNOW      11276.99\n",
      "Name: order_amount_($), dtype: float64\n",
      "\n",
      "Top states for product sales:\n",
      "state\n",
      "MAHARASHTRA       161134.58\n",
      "KARNATAKA         126645.04\n",
      "TELANGANA          83633.39\n",
      "UTTAR PRADESH      82333.91\n",
      "TAMIL NADU         78722.02\n",
      "DELHI              51151.21\n",
      "KERALA             46280.94\n",
      "WEST BENGAL        42332.58\n",
      "ANDHRA PRADESH     38912.29\n",
      "HARYANA            34828.76\n",
      "Name: order_amount_($), dtype: float64\n"
     ]
    }
   ],
   "source": [
    "city_sales = data.groupby('city')['order_amount_($)'].sum().sort_values(ascending=False)\n",
    "state_sales = data.groupby('state')['order_amount_($)'].sum().sort_values(ascending=False)\n",
    "\n",
    "print(\"Top cities for product sales:\")\n",
    "print(city_sales.head(10).round(2))\n",
    "\n",
    "print(\"\\nTop states for product sales:\")\n",
    "print(state_sales.head(10).round(2))"
   ]
  },
  {
   "cell_type": "markdown",
   "id": "2deedd40",
   "metadata": {},
   "source": [
    "Insights:\n",
    "Could notice the possible population difference with Bengaluru to other cities and Maharashtra to other states."
   ]
  },
  {
   "cell_type": "markdown",
   "id": "fc773f6b",
   "metadata": {},
   "source": [
    "#### Are there any trends in order cancellations?"
   ]
  },
  {
   "cell_type": "code",
   "execution_count": 48,
   "id": "838a7635",
   "metadata": {},
   "outputs": [
    {
     "data": {
      "image/png": "[encoded data removed]",
      "text/plain": [
       "<Figure size 1000x600 with 1 Axes>"
      ]
     },
     "metadata": {},
     "output_type": "display_data"
    }
   ],
   "source": [
    "cancelled_orders_by_date = data[data['cargo_status'] == 'Cancelled'].groupby('date').size()\n",
    "\n",
    "plt.figure(figsize=(10, 6))\n",
    "cancelled_orders_by_date.plot(marker='o', linestyle='-')\n",
    "plt.title('Trend of Order Cancellations Over Time')\n",
    "plt.xlabel('date')\n",
    "plt.ylabel('Number of Cancelled Orders')\n",
    "plt.grid(True) #for grid lines\n",
    "plt.show()"
   ]
  },
  {
   "cell_type": "markdown",
   "id": "a11a00cf",
   "metadata": {},
   "source": [
    "Insights:\n",
    "Shows a positive correlation with revenue also decreasing and peaking at 05/04 also as the peak sales day."
   ]
  },
  {
   "cell_type": "markdown",
   "id": "36d3c49d",
   "metadata": {},
   "source": [
    "#### What is the distribution of B2B vs B2C customers?"
   ]
  },
  {
   "cell_type": "code",
   "execution_count": 55,
   "id": "54154f77",
   "metadata": {},
   "outputs": [
    {
     "data": {
      "image/png": "[encoded data removed]",
      "text/plain": [
       "<Figure size 600x400 with 1 Axes>"
      ]
     },
     "metadata": {},
     "output_type": "display_data"
    },
    {
     "name": "stdout",
     "output_type": "stream",
     "text": [
      "B2C Customers: 127926\n",
      "B2B Customers: 871\n"
     ]
    }
   ],
   "source": [
    "b2b_b2c_distribution = data['customer_cate'].value_counts()\n",
    "\n",
    "plt.figure(figsize=(6, 4))\n",
    "b2b_b2c_distribution.plot(kind='bar', color=['blue', 'red'])\n",
    "plt.title('Distribution of B2B vs B2C')\n",
    "plt.xlabel('Customer Type')\n",
    "plt.ylabel('Customers Count')\n",
    "plt.xticks(ticks=[0, 1], labels=['B2C', 'B2B'], rotation=0)\n",
    "plt.grid(axis='y')\n",
    "plt.show()\n",
    "\n",
    "print(f'B2C Customers: {b2b_b2c_distribution[\"customer\"]}')\n",
    "print(f'B2B Customers: {b2b_b2c_distribution[\"business\"]}')"
   ]
  },
  {
   "cell_type": "code",
   "execution_count": 42,
   "id": "ad3a2a4a",
   "metadata": {},
   "outputs": [
    {
     "name": "stdout",
     "output_type": "stream",
     "text": [
      "Average order amount by customer type:\n",
      "customer_cate\n",
      "business    $8.21\n",
      "customer    $7.37\n",
      "Name: order_amount_($), dtype: object\n"
     ]
    }
   ],
   "source": [
    "avg_order_amount_by_customer_type = data.groupby('customer_cate')['order_amount_($)'].mean()\n",
    "\n",
    "print(\"Average order amount by customer type:\")\n",
    "print(avg_order_amount_by_customer_type.apply(lambda x: \"${:,.2f}\".format(x)))"
   ]
  },
  {
   "cell_type": "markdown",
   "id": "dae1dd17",
   "metadata": {},
   "source": [
    "Insights:\n",
    "As expected, Amazon aims mainly at customers and not business, with business purchasing larger qty at a time thus showing a higher average order amount."
   ]
  },
  {
   "cell_type": "markdown",
   "id": "ddc9815f",
   "metadata": {},
   "source": [
    "### Shipping Analysis"
   ]
  },
  {
   "cell_type": "markdown",
   "id": "0e23e1d8",
   "metadata": {},
   "source": [
    "#### How does the rate of cancelled orders vary between different shipping service levels?"
   ]
  },
  {
   "cell_type": "code",
   "execution_count": 57,
   "id": "af4dee81",
   "metadata": {},
   "outputs": [
    {
     "data": {
      "image/png": "[encoded data removed]",
      "text/plain": [
       "<Figure size 1000x600 with 1 Axes>"
      ]
     },
     "metadata": {},
     "output_type": "display_data"
    },
    {
     "name": "stdout",
     "output_type": "stream",
     "text": [
      "Cancelled Orders by Service Level:\n",
      "service_level\n",
      "Expedited    11408\n",
      "Standard      6903\n",
      "Name: count, dtype: int64\n"
     ]
    }
   ],
   "source": [
    "cancelled_orders = data[data['cargo_status'] == 'Cancelled']\n",
    "cancelled_service_counts = cancelled_orders['service_level'].value_counts()\n",
    "\n",
    "cancelled_service_counts.plot(kind='bar', figsize=(10, 6), color='skyblue')\n",
    "plt.title('Cancelled Orders by Service Level')\n",
    "plt.xlabel('Service Level')\n",
    "plt.ylabel('Number of Cancelled Orders')\n",
    "plt.xticks(rotation=45)\n",
    "plt.grid(axis='y')\n",
    "plt.show()\n",
    "\n",
    "print(\"Cancelled Orders by Service Level:\")\n",
    "print(cancelled_service_counts)"
   ]
  },
  {
   "cell_type": "markdown",
   "id": "071f1359",
   "metadata": {},
   "source": [
    "Insights:\n",
    "With Expedited being faster shipping but holding higher cancel rate may show the impulses of purchase tend to happen to people who are characterized with possible impatience and more average income."
   ]
  },
  {
   "cell_type": "markdown",
   "id": "958bf06b",
   "metadata": {},
   "source": [
    "#### What percentage of orders are fulfilled by Amazon vs Others?"
   ]
  },
  {
   "cell_type": "code",
   "execution_count": 58,
   "id": "7d4bc417",
   "metadata": {},
   "outputs": [
    {
     "name": "stdout",
     "output_type": "stream",
     "text": [
      "Percentage of Orders Fulfilled by Amazon Company: 69.5225820477185\n",
      "Percentage of Orders Fulfilled by Individual Seller: 30.4774179522815\n"
     ]
    }
   ],
   "source": [
    "fulfillment_counts = data['fulfilment'].value_counts()\n",
    "total_orders = len(data)\n",
    "percentage_amazon = (fulfillment_counts['Amazon'] / total_orders) * 100\n",
    "percentage_merchant = (fulfillment_counts['Merchant'] / total_orders) * 100\n",
    "\n",
    "print(\"Percentage of Orders Fulfilled by Amazon Company:\", percentage_amazon)\n",
    "print(\"Percentage of Orders Fulfilled by Individual Seller:\", percentage_merchant)"
   ]
  },
  {
   "cell_type": "markdown",
   "id": "f0f82300",
   "metadata": {},
   "source": [
    "Insights:\n",
    "As expected, Amazon holds the most sellers at its own platform."
   ]
  },
  {
   "cell_type": "markdown",
   "id": "fa44b4dc",
   "metadata": {},
   "source": [
    "### Product Analysis"
   ]
  },
  {
   "cell_type": "markdown",
   "id": "d279bc10",
   "metadata": {},
   "source": [
    "#### Which categories of products are most popular? (qty)"
   ]
  },
  {
   "cell_type": "code",
   "execution_count": 70,
   "id": "0d013169",
   "metadata": {},
   "outputs": [
    {
     "name": "stdout",
     "output_type": "stream",
     "text": [
      "Percentage of quantity by product category:\n",
      "product_cate\n",
      "Set              38.82%\n",
      "kurta            38.61%\n",
      "Western Dress    11.96%\n",
      "Top               8.49%\n",
      "Ethnic Dress      0.90%\n",
      "Blouse            0.74%\n",
      "Bottom            0.34%\n",
      "Saree             0.13%\n",
      "Dupatta           0.00%\n",
      "Name: order_qty, dtype: object\n"
     ]
    }
   ],
   "source": [
    "qty_by_category = data.groupby('product_cate')['order_qty'].sum()\n",
    "percent_qty_by_category = ((qty_by_category / qty_by_category.sum()) * 100).sort_values(ascending=False)\n",
    "percent_qty_by_category = percent_qty_by_category.apply(lambda x: \"{:.2f}%\".format(x))\n",
    "\n",
    "print(\"Percentage of quantity by product category:\")\n",
    "print(percent_qty_by_category)"
   ]
  },
  {
   "cell_type": "markdown",
   "id": "fc7e99d8",
   "metadata": {},
   "source": [
    "#### Which categories of products are most popular? (revenue)"
   ]
  },
  {
   "cell_type": "code",
   "execution_count": 71,
   "id": "79f42dcb",
   "metadata": {},
   "outputs": [
    {
     "name": "stdout",
     "output_type": "stream",
     "text": [
      "Total revenue by product category:\n",
      "product_cate\n",
      "Set              $473,645.49\n",
      "kurta            $257,272.15\n",
      "Western Dress    $135,608.42\n",
      "Top               $64,647.29\n",
      "Ethnic Dress       $9,559.49\n",
      "Blouse             $5,542.80\n",
      "Bottom             $1,822.90\n",
      "Saree              $1,499.45\n",
      "Dupatta               $11.07\n",
      "Name: order_amount_($), dtype: object\n"
     ]
    }
   ],
   "source": [
    "revenue_by_category = data.groupby('product_cate')['order_amount_($)'].sum().sort_values(ascending=False)\n",
    "\n",
    "print(\"Total revenue by product category:\")\n",
    "print(revenue_by_category.apply(lambda x: \"${:,.2f}\".format(x)))"
   ]
  },
  {
   "cell_type": "markdown",
   "id": "57f2a64b",
   "metadata": {},
   "source": [
    "#### Are there specific styles that are more popular than others?"
   ]
  },
  {
   "cell_type": "code",
   "execution_count": 59,
   "id": "70e5907a",
   "metadata": {},
   "outputs": [
    {
     "name": "stdout",
     "output_type": "stream",
     "text": [
      "Top 10 Most Popular Styles:\n",
      "style\n",
      "JNE3797    3690\n",
      "JNE3405    2062\n",
      "SET268     1728\n",
      "J0230      1706\n",
      "J0341      1469\n",
      "J0003      1385\n",
      "SET324     1151\n",
      "SET345     1133\n",
      "JNE3373    1067\n",
      "JNE3399     971\n",
      "Name: order_qty, dtype: int64\n"
     ]
    }
   ],
   "source": [
    "popular_style = data.groupby('style')['order_qty'].sum()\n",
    "popular_style = popular_style.sort_values(ascending=False)\n",
    "\n",
    "print(\"Top 10 Most Popular Styles:\")\n",
    "print(popular_style.head(10).round(2))"
   ]
  },
  {
   "cell_type": "markdown",
   "id": "bf2fd40a",
   "metadata": {},
   "source": [
    "Insights:\n",
    "Interestingly, the total revenue generated for  Set and Kurta has almost 45% difference but the quantity are similar, possibly resembling the downfall of Kurta fashion which in these three months, supply are way over demand and will go on sale soon."
   ]
  },
  {
   "cell_type": "markdown",
   "id": "5cb9c9ac",
   "metadata": {},
   "source": [
    "#### What is the average quantity of products ordered?"
   ]
  },
  {
   "cell_type": "code",
   "execution_count": 60,
   "id": "aed1cd85",
   "metadata": {},
   "outputs": [
    {
     "name": "stdout",
     "output_type": "stream",
     "text": [
      "Top 5 product categories by average quantity:\n",
      "product_cate\n",
      "Set              9.434042\n",
      "Saree            9.142986\n",
      "Western Dress    8.754014\n",
      "Ethnic Dress     8.255171\n",
      "Top              6.091331\n",
      "Name: order_amount_($), dtype: float64\n"
     ]
    }
   ],
   "source": [
    "avg_qty_by_category = data.groupby('product_cate')['order_qty'].mean()\n",
    "avg_qty_by_category = avg_qty_by_category.sort_values(ascending=False)\n",
    "\n",
    "print(\"Top 5 product categories by average quantity:\")\n",
    "print(avg_price_by_category.head(5))"
   ]
  },
  {
   "cell_type": "markdown",
   "id": "a29dcd2a",
   "metadata": {},
   "source": [
    "### Promotional Analysis"
   ]
  },
  {
   "cell_type": "markdown",
   "id": "65f9c5ae",
   "metadata": {},
   "source": [
    "#### Which promotion are most commonly used?"
   ]
  },
  {
   "cell_type": "code",
   "execution_count": 72,
   "id": "982e657a",
   "metadata": {},
   "outputs": [
    {
     "name": "stdout",
     "output_type": "stream",
     "text": [
      "Most Commonly Used Promotion:\n",
      "promotion\n",
      "IN Core Free Shipping 2015/04/08 23-48-5-108    46006\n",
      "Name: count, dtype: int64\n"
     ]
    }
   ],
   "source": [
    "promoted_data = data[data['promotion'] != 'Not Promoted']\n",
    "promotion_counts = promoted_data['promotion'].value_counts()\n",
    "\n",
    "print(\"Most Commonly Used Promotion:\")\n",
    "print(promotion_counts.head(1))"
   ]
  },
  {
   "cell_type": "markdown",
   "id": "d8af651e",
   "metadata": {},
   "source": [
    "### Geographical Analysis"
   ]
  },
  {
   "cell_type": "code",
   "execution_count": 77,
   "id": "c435214a",
   "metadata": {},
   "outputs": [
    {
     "name": "stdout",
     "output_type": "stream",
     "text": [
      "Most popular product category in each state:\n",
      "                  state product_cate  order_qty\n",
      "1    ANDAMAN & NICOBAR           Set        108\n",
      "12       ANDHRA PRADESH        kurta       2298\n",
      "13                  APO          Set          0\n",
      "14                   AR          Top          1\n",
      "17    ARUNACHAL PRADESH          Set         55\n",
      "..                  ...          ...        ...\n",
      "317                 goa        kurta          3\n",
      "318              orissa          Set          1\n",
      "319              punjab          Set          8\n",
      "324           rajasthan          Top          2\n",
      "326            rajsthan        kurta          1\n",
      "\n",
      "[70 rows x 3 columns]\n"
     ]
    }
   ],
   "source": [
    "popular_category_by_state = data.groupby(['state', 'product_cate'])['order_qty'].sum().reset_index()\n",
    "popular_category_by_state = popular_category_by_state.sort_values(['state', 'order_qty'], ascending=[True, False])\n",
    "popular_category_by_state = popular_category_by_state.drop_duplicates(subset=['state'])\n",
    "\n",
    "print(\"Most popular product category in each state:\")\n",
    "print(popular_category_by_state)"
   ]
  },
  {
   "cell_type": "markdown",
   "id": "e1980120",
   "metadata": {},
   "source": [
    "#### Are there emerging markets that are showing growth?"
   ]
  },
  {
   "cell_type": "code",
   "execution_count": 62,
   "id": "a0cb1f9f",
   "metadata": {},
   "outputs": [
    {
     "data": {
      "image/png": "[encoded data removed]",
      "text/plain": [
       "<Figure size 1000x600 with 1 Axes>"
      ]
     },
     "metadata": {},
     "output_type": "display_data"
    }
   ],
   "source": [
    "sales_by_region = data.groupby('state')['order_amount_($)'].sum()\n",
    "\n",
    "sales_by_region.plot(kind='line', figsize=(10, 6), marker='o', linestyle='-')\n",
    "plt.title('Total Sales Revenue by Region')\n",
    "plt.xlabel('Region')\n",
    "plt.ylabel('Total Sales Revenue')\n",
    "plt.xticks(rotation=45)\n",
    "plt.grid(True)\n",
    "plt.tight_layout()\n",
    "plt.show()"
   ]
  },
  {
   "cell_type": "markdown",
   "id": "219fbe85",
   "metadata": {},
   "source": [
    "Insights:\n",
    "Sales by states show that although Megahalaya has peaked in April, but statistically, Chandigarh and Himachal are on the rise with emerging markets after June in which the data provide ends."
   ]
  },
  {
   "cell_type": "markdown",
   "id": "85a80946",
   "metadata": {},
   "source": [
    "### Monthly Analysis"
   ]
  },
  {
   "cell_type": "markdown",
   "id": "7fc8450d",
   "metadata": {},
   "source": [
    "#### What does the overall trend show?"
   ]
  },
  {
   "cell_type": "code",
   "execution_count": 63,
   "id": "85b79b4a",
   "metadata": {},
   "outputs": [
    {
     "data": {
      "image/png": "[encoded data removed]",
      "text/plain": [
       "<Figure size 1000x600 with 1 Axes>"
      ]
     },
     "metadata": {},
     "output_type": "display_data"
    }
   ],
   "source": [
    "monthly_sales = data.groupby(['month'])['order_amount_($)'].sum()\n",
    "\n",
    "plt.figure(figsize=(10, 6))\n",
    "monthly_sales.plot(kind='line', marker='o', linestyle='-')\n",
    "plt.title('Total Sales Revenue Over Time')\n",
    "plt.xlabel('Month')\n",
    "plt.ylabel('Total Sales Revenue')\n",
    "plt.xticks(rotation=45)\n",
    "plt.grid(True)\n",
    "plt.tight_layout()\n",
    "plt.show()"
   ]
  },
  {
   "cell_type": "markdown",
   "id": "ff97ed18",
   "metadata": {},
   "source": [
    "Insights:\n",
    "Overall rather consistent decrease in sales throughout April to June"
   ]
  },
  {
   "cell_type": "markdown",
   "id": "10f82a9f",
   "metadata": {},
   "source": [
    "### Return/Cancelled Order Analysis"
   ]
  },
  {
   "cell_type": "markdown",
   "id": "cd7ac487",
   "metadata": {},
   "source": [
    "#### Percentage of all cancelled/return orders"
   ]
  },
  {
   "cell_type": "code",
   "execution_count": 39,
   "id": "e7e0e557",
   "metadata": {},
   "outputs": [
    {
     "name": "stdout",
     "output_type": "stream",
     "text": [
      "Total cancelled orders: 18316, which is 14.22% of all orders.\n",
      "Total returned orders: 2109, which is 1.64% of all orders.\n",
      "This represents 17.53% of all orders.\n"
     ]
    }
   ],
   "source": [
    "cancelled_orders = data[data['cargo_status'].isin(['Cancelled', 'Shipped - Lost in Transit'])]\n",
    "returned_orders = data[data['cargo_status'].isin(['Shipped - Returned to Seller', 'Shipped - Returning to Seller', 'Shipped - Rejected by Buyer', 'Shipped - Damaged'])]\n",
    "total_cancelled = len(cancelled_orders)\n",
    "total_returned = len(returned_orders)\n",
    "total_cancelled_returned = total_cancelled + total_returned\n",
    "percent_cancelled = total_cancelled / len(data) * 100\n",
    "percent_returned = total_returned / len(data) * 100\n",
    "percent_cancelled_returned = total_cancelled_returned / data['order_qty'].sum() * 100\n",
    "\n",
    "print(f\"Total cancelled orders: {total_cancelled}, which is {percent_cancelled:.2f}% of all orders.\")\n",
    "print(f\"Total returned orders: {total_returned}, which is {percent_returned:.2f}% of all orders.\")\n",
    "print(f\"This represents {percent_cancelled_returned:.2f}% of all orders.\")"
   ]
  },
  {
   "cell_type": "markdown",
   "id": "3736edff",
   "metadata": {},
   "source": [
    "#### Are there specific products or categories that have a higher return rate?"
   ]
  },
  {
   "cell_type": "code",
   "execution_count": 64,
   "id": "b1c6bea9",
   "metadata": {},
   "outputs": [
    {
     "name": "stdout",
     "output_type": "stream",
     "text": [
      "Products with Higher Return Rates:\n",
      "product_cate\n",
      "Set              0.016811\n",
      "Western Dress    0.022206\n",
      "dtype: float64\n",
      "\n",
      "Categories with Higher Return Rates:\n",
      "product_cate\n",
      "Set              0.018731\n",
      "Western Dress    0.024682\n",
      "kurta            0.017055\n",
      "Name: order_qty, dtype: float64\n"
     ]
    }
   ],
   "source": [
    "total_orders = len(data)\n",
    "\n",
    "total_returned_orders = len(returned_orders)\n",
    "\n",
    "total_cancelled_orders = len(cancelled_orders)\n",
    "\n",
    "return_rates_by_product = returned_orders.groupby('product_cate').size() / data.groupby('product_cate').size()\n",
    "return_rates_by_product = return_rates_by_product.dropna()\n",
    "\n",
    "return_rates_by_category = returned_orders.groupby('product_cate')['order_qty'].sum() / data.groupby('product_cate')['order_qty'].sum()\n",
    "\n",
    "average_return_rate = total_returned_orders / total_orders\n",
    "higher_return_products = return_rates_by_product[return_rates_by_product > average_return_rate]\n",
    "higher_return_categories = return_rates_by_category[return_rates_by_category > average_return_rate]\n",
    "\n",
    "print(\"Products with Higher Return Rates:\")\n",
    "print(higher_return_products)\n",
    "\n",
    "print(\"\\nCategories with Higher Return Rates:\")\n",
    "print(higher_return_categories)"
   ]
  },
  {
   "cell_type": "markdown",
   "id": "e6e9b992",
   "metadata": {},
   "source": [
    "Insights:\n",
    "With cancelled orders outweighing return orders possibly represents impulse of buyers and consumers being uncertain of their decisions rather than the lack of quality of the products provided by sellers."
   ]
  },
  {
   "cell_type": "markdown",
   "id": "4ba8d914",
   "metadata": {},
   "source": [
    "## Conclusion"
   ]
  },
  {
   "cell_type": "markdown",
   "id": "c06ed9f3",
   "metadata": {},
   "source": [
    "Overall, we can see the reducing market for Amazon India from 2022 April to June.\n",
    "Over the analysis, we can bring our knowledge to the below:\n",
    "- The steady decrease might be found in the product category: Kurta, with supply > demand\n",
    "- Although free shipping is the main method for promoting in larger cities, there might be a need for gifting other products or other sort of promotion for emerging market city and states.\n",
    "- Consumers on Amazon tend to lean toward Set wears, having the appearance of convinience being prioritized.\n",
    "- Trend is showing for higher priced singular purchase rather than multiple lower priced purchase.\n",
    "- Expedited shipping shows high cancel rates as well as overall, which possibly would show a form of rechecking purchase or clarity of product being purchased needed.\n",
    "\n",
    "Amazon India should strive to promote product categories other than set wear with possible collaborations with individual sellers to increase their audience in emerging market for the long run."
   ]
  }
 ],
 "metadata": {
  "kernelspec": {
   "display_name": "Python 3 (ipykernel)",
   "language": "python",
   "name": "python3"
  },
  "language_info": {
   "codemirror_mode": {
    "name": "ipython",
    "version": 3
   },
   "file_extension": ".py",
   "mimetype": "text/x-python",
   "name": "python",
   "nbconvert_exporter": "python",
   "pygments_lexer": "ipython3",
   "version": "3.11.5"
  }
 },
 "nbformat": 4,
 "nbformat_minor": 5
}
